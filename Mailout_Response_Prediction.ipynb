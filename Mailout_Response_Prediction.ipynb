{
 "cells": [
  {
   "cell_type": "markdown",
   "metadata": {},
   "source": [
    "Install required packages"
   ]
  },
  {
   "cell_type": "code",
   "execution_count": 1,
   "metadata": {},
   "outputs": [
    {
     "name": "stdout",
     "output_type": "stream",
     "text": [
      "Collecting pyarrow\n",
      "  Downloading pyarrow-2.0.0-cp36-cp36m-manylinux2014_x86_64.whl (17.7 MB)\n",
      "\u001b[K     |████████████████████████████████| 17.7 MB 3.0 MB/s eta 0:00:01    |███████████▊                    | 6.5 MB 3.0 MB/s eta 0:00:04\n",
      "\u001b[?25hRequirement already satisfied: numpy>=1.14 in /home/ec2-user/anaconda3/envs/pytorch_latest_p36/lib/python3.6/site-packages (from pyarrow) (1.18.1)\n",
      "Installing collected packages: pyarrow\n",
      "Successfully installed pyarrow-2.0.0\n",
      "\u001b[33mWARNING: You are using pip version 20.0.2; however, version 20.2.4 is available.\n",
      "You should consider upgrading via the '/home/ec2-user/anaconda3/envs/pytorch_latest_p36/bin/python -m pip install --upgrade pip' command.\u001b[0m\n"
     ]
    }
   ],
   "source": [
    "!pip install pyarrow "
   ]
  },
  {
   "cell_type": "code",
   "execution_count": 2,
   "metadata": {},
   "outputs": [],
   "source": [
    "# Changes on custom modules will be automatically reloaded\n",
    "%load_ext autoreload\n",
    "%autoreload 2"
   ]
  },
  {
   "cell_type": "markdown",
   "metadata": {},
   "source": [
    "# Capstone Project: Create a Customer Segmentation Report for Arvato Financial Services\n",
    "\n",
    "In this project, we will analyze demographics data for customers of a mail-order sales company in Germany, comparing it against demographics information for the general population. We'll use unsupervised learning techniques (dimensionality reduction + clustering) to perform customer segmentation, identifying the parts of the population that best describe the core customer base of the company. Then, we'll apply what was learned on a third dataset with demographics information for targets of a marketing campaign for the company, and use a model to predict which individuals are most likely to convert into becoming customers for the company. The data has been provided by Bertelsmann Arvato Analytics, and represents a real-life data science task."
   ]
  },
  {
   "cell_type": "code",
   "execution_count": 3,
   "metadata": {},
   "outputs": [],
   "source": [
    "import os\n",
    "import time\n",
    "import pickle\n",
    "import numpy as np\n",
    "import pandas as pd\n",
    "\n",
    "import seaborn as sns\n",
    "import matplotlib.pyplot as plt\n",
    "from sklearn.model_selection import train_test_split\n",
    "from collections import defaultdict, Counter\n",
    "from functools import partial\n",
    "\n",
    "# magic word for producing visualizations in notebook\n",
    "%matplotlib inline"
   ]
  },
  {
   "cell_type": "code",
   "execution_count": 4,
   "metadata": {},
   "outputs": [],
   "source": [
    "import os, sys\n",
    "sys.path.append('.')"
   ]
  },
  {
   "cell_type": "code",
   "execution_count": 5,
   "metadata": {},
   "outputs": [],
   "source": [
    "import utils"
   ]
  },
  {
   "cell_type": "code",
   "execution_count": 6,
   "metadata": {},
   "outputs": [],
   "source": [
    "import pandas as pd\n",
    "import boto3\n",
    "import sagemaker"
   ]
  },
  {
   "cell_type": "markdown",
   "metadata": {},
   "source": [
    "## Part 2: Supervised Learning Model\n",
    "Now that we've found which parts of the population are more likely to be customers of the mail-order company, it's time to build a prediction model. Each of the rows in the \"MAILOUT\" data files represents an individual that was targeted for a mailout campaign. Ideally, we should be able to use the demographic information from each individual to decide whether or not it will be worth it to include that person in the campaign.\n",
    "\n",
    "The \"MAILOUT\" data has been split into two approximately equal parts, each with almost 43 000 data rows. In this part, you can verify your model with the \"TRAIN\" partition, which includes a column, \"RESPONSE\", that states whether or not a person became a customer of the company following the campaign. In the next part, you'll need to create predictions on the \"TEST\" partition, where the \"RESPONSE\" column has been withheld."
   ]
  },
  {
   "cell_type": "code",
   "execution_count": 7,
   "metadata": {},
   "outputs": [],
   "source": [
    "bucket = utils.BucketUtils(bucket_name = 'arvatos-capstone', prefix = 'data')\n",
    "models_bucket  = utils.BucketUtils(bucket_name = 'arvatos-capstone', prefix = 'models')"
   ]
  },
  {
   "cell_type": "code",
   "execution_count": 8,
   "metadata": {},
   "outputs": [
    {
     "name": "stdout",
     "output_type": "stream",
     "text": [
      "Role: arn:aws:iam::089812661404:role/service-role/AmazonSageMaker-ExecutionRole-20201010T192233\n",
      "Bucket: arvatos-capstone\n",
      "\n"
     ]
    }
   ],
   "source": [
    "sagemaker_session = sagemaker.Session() # store the current SageMaker session\n",
    "\n",
    "# get IAM role\n",
    "role = sagemaker.get_execution_role()\n",
    "print('Role: %s' % role)\n",
    "\n",
    "print('Bucket: %s' % bucket.bucket_name)\n",
    "print()"
   ]
  },
  {
   "cell_type": "code",
   "execution_count": 9,
   "metadata": {},
   "outputs": [],
   "source": [
    "def save_for_kaggle(predictions, filename):\n",
    "    df = bucket.read_csv('Udacity_MAILOUT_052018_TEST.csv.gz')\n",
    "    df.drop(columns=set(df.columns.values)-set(['LNR']), inplace=True)\n",
    "    df['RESPONSE'] = predictions\n",
    "\n",
    "    current_time = time.strftime(\"%m_%d_%y__%H_%M\", time.localtime())\n",
    "    filename = '%s_%s.csv' % (filename, current_time)\n",
    "\n",
    "    df.to_csv(filename, index=False)\n",
    "    \n",
    "    return filename"
   ]
  },
  {
   "cell_type": "markdown",
   "metadata": {},
   "source": [
    "### Read Data"
   ]
  },
  {
   "cell_type": "code",
   "execution_count": 10,
   "metadata": {},
   "outputs": [
    {
     "data": {
      "text/html": [
       "<div>\n",
       "<style scoped>\n",
       "    .dataframe tbody tr th:only-of-type {\n",
       "        vertical-align: middle;\n",
       "    }\n",
       "\n",
       "    .dataframe tbody tr th {\n",
       "        vertical-align: top;\n",
       "    }\n",
       "\n",
       "    .dataframe thead th {\n",
       "        text-align: right;\n",
       "    }\n",
       "</style>\n",
       "<table border=\"1\" class=\"dataframe\">\n",
       "  <thead>\n",
       "    <tr style=\"text-align: right;\">\n",
       "      <th></th>\n",
       "      <th>RESPONSE</th>\n",
       "      <th>NUM_CHILDREN</th>\n",
       "      <th>T_AMOUNT_ONLINE_BANK_12M</th>\n",
       "      <th>B_NUM_ACADEMICS_BUILDING</th>\n",
       "      <th>T_AMOUNT_ONLINE_INSURANCE_12M</th>\n",
       "      <th>HH_RECOVERED_YEAR</th>\n",
       "      <th>URBAN_AGGLOMERATION</th>\n",
       "      <th>HH_NUM_ADULTS</th>\n",
       "      <th>HH_HOUSEHOLD_STATS</th>\n",
       "      <th>NH_NUMBER_CARS_PLZ8</th>\n",
       "      <th>...</th>\n",
       "      <th>P_LIFESTAGE_ROUGH_2</th>\n",
       "      <th>P_LIFESTAGE_ROUGH_3</th>\n",
       "      <th>P_LIFESTAGE_ROUGH_4</th>\n",
       "      <th>NH_NEIGHBORHOOD_SCORE_1</th>\n",
       "      <th>NH_NEIGHBORHOOD_SCORE_2</th>\n",
       "      <th>NH_NEIGHBORHOOD_SCORE_3</th>\n",
       "      <th>VK_ZG11_1</th>\n",
       "      <th>VK_ZG11_2</th>\n",
       "      <th>VK_ZG11_3</th>\n",
       "      <th>VK_ZG11_4</th>\n",
       "    </tr>\n",
       "  </thead>\n",
       "  <tbody>\n",
       "    <tr>\n",
       "      <th>20218</th>\n",
       "      <td>0</td>\n",
       "      <td>0.090909</td>\n",
       "      <td>0.0</td>\n",
       "      <td>0.00</td>\n",
       "      <td>0.0</td>\n",
       "      <td>0.796610</td>\n",
       "      <td>0.000000</td>\n",
       "      <td>0.066667</td>\n",
       "      <td>0.004454</td>\n",
       "      <td>0.373478</td>\n",
       "      <td>...</td>\n",
       "      <td>0.0</td>\n",
       "      <td>0.0</td>\n",
       "      <td>0.0</td>\n",
       "      <td>0.0</td>\n",
       "      <td>1.0</td>\n",
       "      <td>1.0</td>\n",
       "      <td>1.0</td>\n",
       "      <td>0.0</td>\n",
       "      <td>0.0</td>\n",
       "      <td>1.0</td>\n",
       "    </tr>\n",
       "    <tr>\n",
       "      <th>7886</th>\n",
       "      <td>0</td>\n",
       "      <td>0.000000</td>\n",
       "      <td>0.0</td>\n",
       "      <td>0.00</td>\n",
       "      <td>0.0</td>\n",
       "      <td>0.838983</td>\n",
       "      <td>0.000000</td>\n",
       "      <td>0.133333</td>\n",
       "      <td>0.002227</td>\n",
       "      <td>0.349565</td>\n",
       "      <td>...</td>\n",
       "      <td>0.0</td>\n",
       "      <td>0.0</td>\n",
       "      <td>0.0</td>\n",
       "      <td>0.0</td>\n",
       "      <td>1.0</td>\n",
       "      <td>1.0</td>\n",
       "      <td>0.0</td>\n",
       "      <td>1.0</td>\n",
       "      <td>1.0</td>\n",
       "      <td>0.0</td>\n",
       "    </tr>\n",
       "    <tr>\n",
       "      <th>7685</th>\n",
       "      <td>0</td>\n",
       "      <td>0.000000</td>\n",
       "      <td>0.0</td>\n",
       "      <td>0.00</td>\n",
       "      <td>0.0</td>\n",
       "      <td>0.906780</td>\n",
       "      <td>0.000000</td>\n",
       "      <td>0.044444</td>\n",
       "      <td>0.013363</td>\n",
       "      <td>0.253913</td>\n",
       "      <td>...</td>\n",
       "      <td>0.0</td>\n",
       "      <td>1.0</td>\n",
       "      <td>0.0</td>\n",
       "      <td>1.0</td>\n",
       "      <td>0.0</td>\n",
       "      <td>1.0</td>\n",
       "      <td>0.0</td>\n",
       "      <td>1.0</td>\n",
       "      <td>1.0</td>\n",
       "      <td>0.0</td>\n",
       "    </tr>\n",
       "    <tr>\n",
       "      <th>7487</th>\n",
       "      <td>0</td>\n",
       "      <td>0.000000</td>\n",
       "      <td>0.0</td>\n",
       "      <td>0.00</td>\n",
       "      <td>0.0</td>\n",
       "      <td>0.940678</td>\n",
       "      <td>0.888889</td>\n",
       "      <td>0.022222</td>\n",
       "      <td>0.011136</td>\n",
       "      <td>0.301304</td>\n",
       "      <td>...</td>\n",
       "      <td>1.0</td>\n",
       "      <td>0.0</td>\n",
       "      <td>1.0</td>\n",
       "      <td>0.0</td>\n",
       "      <td>0.0</td>\n",
       "      <td>0.0</td>\n",
       "      <td>0.0</td>\n",
       "      <td>1.0</td>\n",
       "      <td>1.0</td>\n",
       "      <td>0.0</td>\n",
       "    </tr>\n",
       "    <tr>\n",
       "      <th>25213</th>\n",
       "      <td>0</td>\n",
       "      <td>0.000000</td>\n",
       "      <td>0.0</td>\n",
       "      <td>0.00</td>\n",
       "      <td>0.0</td>\n",
       "      <td>0.898305</td>\n",
       "      <td>0.000000</td>\n",
       "      <td>0.000000</td>\n",
       "      <td>0.006682</td>\n",
       "      <td>0.450870</td>\n",
       "      <td>...</td>\n",
       "      <td>0.0</td>\n",
       "      <td>0.0</td>\n",
       "      <td>0.0</td>\n",
       "      <td>1.0</td>\n",
       "      <td>0.0</td>\n",
       "      <td>0.0</td>\n",
       "      <td>0.0</td>\n",
       "      <td>0.0</td>\n",
       "      <td>0.0</td>\n",
       "      <td>1.0</td>\n",
       "    </tr>\n",
       "    <tr>\n",
       "      <th>17714</th>\n",
       "      <td>0</td>\n",
       "      <td>-0.090909</td>\n",
       "      <td>-0.1</td>\n",
       "      <td>-0.05</td>\n",
       "      <td>-0.1</td>\n",
       "      <td>-16.110169</td>\n",
       "      <td>-0.022222</td>\n",
       "      <td>-0.022222</td>\n",
       "      <td>-0.002227</td>\n",
       "      <td>-0.000435</td>\n",
       "      <td>...</td>\n",
       "      <td>0.0</td>\n",
       "      <td>0.0</td>\n",
       "      <td>0.0</td>\n",
       "      <td>0.0</td>\n",
       "      <td>0.0</td>\n",
       "      <td>0.0</td>\n",
       "      <td>0.0</td>\n",
       "      <td>0.0</td>\n",
       "      <td>0.0</td>\n",
       "      <td>0.0</td>\n",
       "    </tr>\n",
       "    <tr>\n",
       "      <th>28775</th>\n",
       "      <td>0</td>\n",
       "      <td>0.000000</td>\n",
       "      <td>0.0</td>\n",
       "      <td>0.00</td>\n",
       "      <td>0.0</td>\n",
       "      <td>0.855932</td>\n",
       "      <td>0.022222</td>\n",
       "      <td>0.022222</td>\n",
       "      <td>0.033408</td>\n",
       "      <td>0.224348</td>\n",
       "      <td>...</td>\n",
       "      <td>0.0</td>\n",
       "      <td>0.0</td>\n",
       "      <td>0.0</td>\n",
       "      <td>1.0</td>\n",
       "      <td>0.0</td>\n",
       "      <td>0.0</td>\n",
       "      <td>0.0</td>\n",
       "      <td>0.0</td>\n",
       "      <td>0.0</td>\n",
       "      <td>0.0</td>\n",
       "    </tr>\n",
       "  </tbody>\n",
       "</table>\n",
       "<p>7 rows × 419 columns</p>\n",
       "</div>"
      ],
      "text/plain": [
       "       RESPONSE  NUM_CHILDREN  T_AMOUNT_ONLINE_BANK_12M  \\\n",
       "20218         0      0.090909                       0.0   \n",
       "7886          0      0.000000                       0.0   \n",
       "7685          0      0.000000                       0.0   \n",
       "7487          0      0.000000                       0.0   \n",
       "25213         0      0.000000                       0.0   \n",
       "17714         0     -0.090909                      -0.1   \n",
       "28775         0      0.000000                       0.0   \n",
       "\n",
       "       B_NUM_ACADEMICS_BUILDING  T_AMOUNT_ONLINE_INSURANCE_12M  \\\n",
       "20218                      0.00                            0.0   \n",
       "7886                       0.00                            0.0   \n",
       "7685                       0.00                            0.0   \n",
       "7487                       0.00                            0.0   \n",
       "25213                      0.00                            0.0   \n",
       "17714                     -0.05                           -0.1   \n",
       "28775                      0.00                            0.0   \n",
       "\n",
       "       HH_RECOVERED_YEAR  URBAN_AGGLOMERATION  HH_NUM_ADULTS  \\\n",
       "20218           0.796610             0.000000       0.066667   \n",
       "7886            0.838983             0.000000       0.133333   \n",
       "7685            0.906780             0.000000       0.044444   \n",
       "7487            0.940678             0.888889       0.022222   \n",
       "25213           0.898305             0.000000       0.000000   \n",
       "17714         -16.110169            -0.022222      -0.022222   \n",
       "28775           0.855932             0.022222       0.022222   \n",
       "\n",
       "       HH_HOUSEHOLD_STATS  NH_NUMBER_CARS_PLZ8  ...  P_LIFESTAGE_ROUGH_2  \\\n",
       "20218            0.004454             0.373478  ...                  0.0   \n",
       "7886             0.002227             0.349565  ...                  0.0   \n",
       "7685             0.013363             0.253913  ...                  0.0   \n",
       "7487             0.011136             0.301304  ...                  1.0   \n",
       "25213            0.006682             0.450870  ...                  0.0   \n",
       "17714           -0.002227            -0.000435  ...                  0.0   \n",
       "28775            0.033408             0.224348  ...                  0.0   \n",
       "\n",
       "       P_LIFESTAGE_ROUGH_3  P_LIFESTAGE_ROUGH_4  NH_NEIGHBORHOOD_SCORE_1  \\\n",
       "20218                  0.0                  0.0                      0.0   \n",
       "7886                   0.0                  0.0                      0.0   \n",
       "7685                   1.0                  0.0                      1.0   \n",
       "7487                   0.0                  1.0                      0.0   \n",
       "25213                  0.0                  0.0                      1.0   \n",
       "17714                  0.0                  0.0                      0.0   \n",
       "28775                  0.0                  0.0                      1.0   \n",
       "\n",
       "       NH_NEIGHBORHOOD_SCORE_2  NH_NEIGHBORHOOD_SCORE_3  VK_ZG11_1  VK_ZG11_2  \\\n",
       "20218                      1.0                      1.0        1.0        0.0   \n",
       "7886                       1.0                      1.0        0.0        1.0   \n",
       "7685                       0.0                      1.0        0.0        1.0   \n",
       "7487                       0.0                      0.0        0.0        1.0   \n",
       "25213                      0.0                      0.0        0.0        0.0   \n",
       "17714                      0.0                      0.0        0.0        0.0   \n",
       "28775                      0.0                      0.0        0.0        0.0   \n",
       "\n",
       "       VK_ZG11_3  VK_ZG11_4  \n",
       "20218        0.0        1.0  \n",
       "7886         1.0        0.0  \n",
       "7685         1.0        0.0  \n",
       "7487         1.0        0.0  \n",
       "25213        0.0        1.0  \n",
       "17714        0.0        0.0  \n",
       "28775        0.0        0.0  \n",
       "\n",
       "[7 rows x 419 columns]"
      ]
     },
     "execution_count": 10,
     "metadata": {},
     "output_type": "execute_result"
    }
   ],
   "source": [
    "features_df = bucket.read_parquet('Udacity_MAILOUT_052018_TRAIN_mm.parquet')\n",
    "target_df = bucket.read_parquet('Udacity_MAILOUT_052018_TRAIN_response.parquet')\n",
    "\n",
    "df = pd.concat([target_df, features_df], axis=1)\n",
    "df.sample(7, random_state=42)"
   ]
  },
  {
   "cell_type": "markdown",
   "metadata": {},
   "source": [
    "#### Check class imbalance"
   ]
  },
  {
   "cell_type": "code",
   "execution_count": 11,
   "metadata": {},
   "outputs": [
    {
     "data": {
      "image/png": "[encoded data removed]",
      "text/plain": [
       "<Figure size 432x288 with 1 Axes>"
      ]
     },
     "metadata": {
      "needs_background": "light"
     },
     "output_type": "display_data"
    }
   ],
   "source": [
    "ax = sns.distplot(target_df.RESPONSE, bins=2, kde=False)\n",
    "ax.set_yscale('log')\n",
    "_ = ax.set_title('Response Distribution')"
   ]
  },
  {
   "cell_type": "markdown",
   "metadata": {},
   "source": [
    "#### Split train data\n",
    "We will split the train data into train and test sets so we can use this test set for validation."
   ]
  },
  {
   "cell_type": "code",
   "execution_count": 12,
   "metadata": {},
   "outputs": [
    {
     "name": "stdout",
     "output_type": "stream",
     "text": [
      "28784 14178\n"
     ]
    }
   ],
   "source": [
    "X_train, X_test, y_train, y_test = train_test_split(df, df.RESPONSE, test_size=0.33, random_state=42, stratify=df.RESPONSE)\n",
    "print(len(X_train), len(X_test))"
   ]
  },
  {
   "cell_type": "code",
   "execution_count": 13,
   "metadata": {},
   "outputs": [
    {
     "data": {
      "image/png": "[encoded data removed]",
      "text/plain": [
       "<Figure size 720x360 with 2 Axes>"
      ]
     },
     "metadata": {
      "needs_background": "light"
     },
     "output_type": "display_data"
    }
   ],
   "source": [
    "_, axes = plt.subplots(1, 2, figsize=(10, 5))\n",
    "sns.distplot(X_train.RESPONSE, bins=2, kde=False, ax=axes[0])\n",
    "axes[0].set_yscale('log')\n",
    "axes[0].set_title('Train')\n",
    "\n",
    "sns.distplot(X_test.RESPONSE, bins=2, kde=False, ax=axes[1])\n",
    "axes[1].set_yscale('log')\n",
    "axes[1].set_title('Validation')\n",
    "plt.show()"
   ]
  },
  {
   "cell_type": "markdown",
   "metadata": {},
   "source": [
    "#### Save data to S3 to be used by training jobs"
   ]
  },
  {
   "cell_type": "code",
   "execution_count": 14,
   "metadata": {},
   "outputs": [],
   "source": [
    "bucket.save_csv(X_train, 'training.csv', index=False, header=False)\n",
    "bucket.save_csv(X_test, 'validation.csv', index=False, header=False)"
   ]
  },
  {
   "cell_type": "code",
   "execution_count": 15,
   "metadata": {},
   "outputs": [],
   "source": [
    "test_df = bucket.read_parquet('Udacity_MAILOUT_052018_TEST_mm.parquet')\n",
    "bucket.save_csv(test_df, 'test.csv', index=False, header=False)"
   ]
  },
  {
   "cell_type": "code",
   "execution_count": 16,
   "metadata": {},
   "outputs": [],
   "source": [
    "pytorch_data_bucket = utils.BucketUtils(bucket_name = 'arvatos-capstone', prefix = 'pytorch_data')\n",
    "pytorch_data_bucket.save_csv(df, 'train.csv', index=False, header=False) # full training set\n",
    "pytorch_data_bucket.save_csv(X_train, 'training.csv', index=False, header=False)  # 0.7 fraction of TRAIN set\n",
    "pytorch_data_bucket.save_csv(X_test, 'validation.csv', index=False, header=False) # 0.3 fraction of TRAIN set"
   ]
  },
  {
   "cell_type": "markdown",
   "metadata": {},
   "source": [
    "### SKLearn Model\n",
    "\n",
    "Train a Random Forest Classifier using GridSearchCV.<br>\n",
    "Using full TRAIN set as we are training with k-fold cross validation"
   ]
  },
  {
   "cell_type": "code",
   "execution_count": 18,
   "metadata": {},
   "outputs": [
    {
     "data": {
      "text/plain": [
       "{'pytorch_data/train.csv',\n",
       " 'pytorch_data/training.csv',\n",
       " 'pytorch_data/validation.csv'}"
      ]
     },
     "execution_count": 18,
     "metadata": {},
     "output_type": "execute_result"
    }
   ],
   "source": [
    "data_location = 's3://{}/{}'.format(pytorch_data_bucket.bucket_name, pytorch_data_bucket.prefix)\n",
    "pytorch_data_bucket.get_files()"
   ]
  },
  {
   "cell_type": "markdown",
   "metadata": {},
   "source": [
    "#### Train model"
   ]
  },
  {
   "cell_type": "markdown",
   "metadata": {},
   "source": [
    "Define sklearn estimator"
   ]
  },
  {
   "cell_type": "code",
   "execution_count": 19,
   "metadata": {},
   "outputs": [],
   "source": [
    "from sagemaker.sklearn.estimator import SKLearn\n",
    "\n",
    "FRAMEWORK_VERSION = \"0.23-1\"\n",
    "script_path = 'train.py'\n",
    "\n",
    "sklearn_estimator = SKLearn(\n",
    "                            source_dir='sklearn',\n",
    "                            entry_point=script_path,\n",
    "                            framework_version=FRAMEWORK_VERSION,\n",
    "                            train_instance_type=\"ml.c4.xlarge\",\n",
    "                            role=role,\n",
    "                            sagemaker_session=sagemaker_session,\n",
    "                            hyperparameters={'n_jobs': 4,\n",
    "                                             'random_state': 42,\n",
    "                                            })"
   ]
  },
  {
   "cell_type": "markdown",
   "metadata": {},
   "source": [
    "Train estimator"
   ]
  },
  {
   "cell_type": "code",
   "execution_count": 20,
   "metadata": {},
   "outputs": [
    {
     "name": "stderr",
     "output_type": "stream",
     "text": [
      "'s3_input' class will be renamed to 'TrainingInput' in SageMaker Python SDK v2.\n"
     ]
    },
    {
     "name": "stdout",
     "output_type": "stream",
     "text": [
      "2020-10-26 23:57:48 Starting - Starting the training job...\n",
      "2020-10-26 23:57:50 Starting - Launching requested ML instances......\n",
      "2020-10-26 23:58:57 Starting - Preparing the instances for training......\n",
      "2020-10-27 00:00:06 Downloading - Downloading input data......\n",
      "2020-10-27 00:01:14 Training - Training image download completed. Training in progress.......\u001b[34m2020-10-27 00:01:14,890 sagemaker-training-toolkit INFO     Imported framework sagemaker_sklearn_container.training\u001b[0m\n",
      "\u001b[34m2020-10-27 00:01:14,891 sagemaker-training-toolkit INFO     No GPUs detected (normal if no gpus installed)\u001b[0m\n",
      "\u001b[34m2020-10-27 00:01:14,901 sagemaker_sklearn_container.training INFO     Invoking user training script.\u001b[0m\n",
      "\u001b[34m2020-10-27 00:01:15,322 sagemaker-training-toolkit INFO     No GPUs detected (normal if no gpus installed)\u001b[0m\n",
      "\u001b[34m2020-10-27 00:01:15,335 sagemaker-training-toolkit INFO     No GPUs detected (normal if no gpus installed)\u001b[0m\n",
      "\u001b[34m2020-10-27 00:01:15,347 sagemaker-training-toolkit INFO     No GPUs detected (normal if no gpus installed)\u001b[0m\n",
      "\u001b[34m2020-10-27 00:01:15,358 sagemaker-training-toolkit INFO     Invoking user script\n",
      "\u001b[0m\n",
      "\u001b[34mTraining Env:\n",
      "\u001b[0m\n",
      "\u001b[34m{\n",
      "    \"additional_framework_parameters\": {},\n",
      "    \"channel_input_dirs\": {\n",
      "        \"train\": \"/opt/ml/input/data/train\"\n",
      "    },\n",
      "    \"current_host\": \"algo-1\",\n",
      "    \"framework_module\": \"sagemaker_sklearn_container.training:main\",\n",
      "    \"hosts\": [\n",
      "        \"algo-1\"\n",
      "    ],\n",
      "    \"hyperparameters\": {\n",
      "        \"n_jobs\": 4,\n",
      "        \"random_state\": 42\n",
      "    },\n",
      "    \"input_config_dir\": \"/opt/ml/input/config\",\n",
      "    \"input_data_config\": {\n",
      "        \"train\": {\n",
      "            \"TrainingInputMode\": \"File\",\n",
      "            \"S3DistributionType\": \"FullyReplicated\",\n",
      "            \"RecordWrapperType\": \"None\"\n",
      "        }\n",
      "    },\n",
      "    \"input_dir\": \"/opt/ml/input\",\n",
      "    \"is_master\": true,\n",
      "    \"job_name\": \"sagemaker-scikit-learn-2020-10-26-23-57-47-799\",\n",
      "    \"log_level\": 20,\n",
      "    \"master_hostname\": \"algo-1\",\n",
      "    \"model_dir\": \"/opt/ml/model\",\n",
      "    \"module_dir\": \"s3://sagemaker-us-east-2-089812661404/sagemaker-scikit-learn-2020-10-26-23-57-47-799/source/sourcedir.tar.gz\",\n",
      "    \"module_name\": \"train\",\n",
      "    \"network_interface_name\": \"eth0\",\n",
      "    \"num_cpus\": 4,\n",
      "    \"num_gpus\": 0,\n",
      "    \"output_data_dir\": \"/opt/ml/output/data\",\n",
      "    \"output_dir\": \"/opt/ml/output\",\n",
      "    \"output_intermediate_dir\": \"/opt/ml/output/intermediate\",\n",
      "    \"resource_config\": {\n",
      "        \"current_host\": \"algo-1\",\n",
      "        \"hosts\": [\n",
      "            \"algo-1\"\n",
      "        ],\n",
      "        \"network_interface_name\": \"eth0\"\n",
      "    },\n",
      "    \"user_entry_point\": \"train.py\"\u001b[0m\n",
      "\u001b[34m}\n",
      "\u001b[0m\n",
      "\u001b[34mEnvironment variables:\n",
      "\u001b[0m\n",
      "\u001b[34mSM_HOSTS=[\"algo-1\"]\u001b[0m\n",
      "\u001b[34mSM_NETWORK_INTERFACE_NAME=eth0\u001b[0m\n",
      "\u001b[34mSM_HPS={\"n_jobs\":4,\"random_state\":42}\u001b[0m\n",
      "\u001b[34mSM_USER_ENTRY_POINT=train.py\u001b[0m\n",
      "\u001b[34mSM_FRAMEWORK_PARAMS={}\u001b[0m\n",
      "\u001b[34mSM_RESOURCE_CONFIG={\"current_host\":\"algo-1\",\"hosts\":[\"algo-1\"],\"network_interface_name\":\"eth0\"}\u001b[0m\n",
      "\u001b[34mSM_INPUT_DATA_CONFIG={\"train\":{\"RecordWrapperType\":\"None\",\"S3DistributionType\":\"FullyReplicated\",\"TrainingInputMode\":\"File\"}}\u001b[0m\n",
      "\u001b[34mSM_OUTPUT_DATA_DIR=/opt/ml/output/data\u001b[0m\n",
      "\u001b[34mSM_CHANNELS=[\"train\"]\u001b[0m\n",
      "\u001b[34mSM_CURRENT_HOST=algo-1\u001b[0m\n",
      "\u001b[34mSM_MODULE_NAME=train\u001b[0m\n",
      "\u001b[34mSM_LOG_LEVEL=20\u001b[0m\n",
      "\u001b[34mSM_FRAMEWORK_MODULE=sagemaker_sklearn_container.training:main\u001b[0m\n",
      "\u001b[34mSM_INPUT_DIR=/opt/ml/input\u001b[0m\n",
      "\u001b[34mSM_INPUT_CONFIG_DIR=/opt/ml/input/config\u001b[0m\n",
      "\u001b[34mSM_OUTPUT_DIR=/opt/ml/output\u001b[0m\n",
      "\u001b[34mSM_NUM_CPUS=4\u001b[0m\n",
      "\u001b[34mSM_NUM_GPUS=0\u001b[0m\n",
      "\u001b[34mSM_MODEL_DIR=/opt/ml/model\u001b[0m\n",
      "\u001b[34mSM_MODULE_DIR=s3://sagemaker-us-east-2-089812661404/sagemaker-scikit-learn-2020-10-26-23-57-47-799/source/sourcedir.tar.gz\u001b[0m\n",
      "\u001b[34mSM_TRAINING_ENV={\"additional_framework_parameters\":{},\"channel_input_dirs\":{\"train\":\"/opt/ml/input/data/train\"},\"current_host\":\"algo-1\",\"framework_module\":\"sagemaker_sklearn_container.training:main\",\"hosts\":[\"algo-1\"],\"hyperparameters\":{\"n_jobs\":4,\"random_state\":42},\"input_config_dir\":\"/opt/ml/input/config\",\"input_data_config\":{\"train\":{\"RecordWrapperType\":\"None\",\"S3DistributionType\":\"FullyReplicated\",\"TrainingInputMode\":\"File\"}},\"input_dir\":\"/opt/ml/input\",\"is_master\":true,\"job_name\":\"sagemaker-scikit-learn-2020-10-26-23-57-47-799\",\"log_level\":20,\"master_hostname\":\"algo-1\",\"model_dir\":\"/opt/ml/model\",\"module_dir\":\"s3://sagemaker-us-east-2-089812661404/sagemaker-scikit-learn-2020-10-26-23-57-47-799/source/sourcedir.tar.gz\",\"module_name\":\"train\",\"network_interface_name\":\"eth0\",\"num_cpus\":4,\"num_gpus\":0,\"output_data_dir\":\"/opt/ml/output/data\",\"output_dir\":\"/opt/ml/output\",\"output_intermediate_dir\":\"/opt/ml/output/intermediate\",\"resource_config\":{\"current_host\":\"algo-1\",\"hosts\":[\"algo-1\"],\"network_interface_name\":\"eth0\"},\"user_entry_point\":\"train.py\"}\u001b[0m\n",
      "\u001b[34mSM_USER_ARGS=[\"--n_jobs\",\"4\",\"--random_state\",\"42\"]\u001b[0m\n",
      "\u001b[34mSM_OUTPUT_INTERMEDIATE_DIR=/opt/ml/output/intermediate\u001b[0m\n",
      "\u001b[34mSM_CHANNEL_TRAIN=/opt/ml/input/data/train\u001b[0m\n",
      "\u001b[34mSM_HP_N_JOBS=4\u001b[0m\n",
      "\u001b[34mSM_HP_RANDOM_STATE=42\u001b[0m\n",
      "\u001b[34mPYTHONPATH=/opt/ml/code:/miniconda3/bin:/miniconda3/lib/python37.zip:/miniconda3/lib/python3.7:/miniconda3/lib/python3.7/lib-dynload:/miniconda3/lib/python3.7/site-packages\n",
      "\u001b[0m\n",
      "\u001b[34mInvoking script with the following command:\n",
      "\u001b[0m\n",
      "\u001b[34m/miniconda3/bin/python train.py --n_jobs 4 --random_state 42\n",
      "\n",
      "\u001b[0m\n",
      "\u001b[34mFitting 5 folds for each of 8 candidates, totalling 40 fits\u001b[0m\n",
      "\u001b[34m[Parallel(n_jobs=-1)]: Using backend LokyBackend with 4 concurrent workers.\u001b[0m\n",
      "\u001b[34m[CV] class_weight=balanced, max_depth=10, min_samples_split=0.001, n_estimators=50 \u001b[0m\n",
      "\u001b[34m[CV] class_weight=balanced, max_depth=10, min_samples_split=0.001, n_estimators=50 \u001b[0m\n",
      "\u001b[34m[CV] class_weight=balanced, max_depth=10, min_samples_split=0.001, n_estimators=50 \u001b[0m\n",
      "\u001b[34m[CV] class_weight=balanced, max_depth=10, min_samples_split=0.001, n_estimators=50 \u001b[0m\n",
      "\u001b[34m[CV]  class_weight=balanced, max_depth=10, min_samples_split=0.001, n_estimators=50, total=   5.0s\u001b[0m\n",
      "\u001b[34m[CV]  class_weight=balanced, max_depth=10, min_samples_split=0.001, n_estimators=50, total=   5.0s\u001b[0m\n",
      "\u001b[34m[CV] class_weight=balanced, max_depth=10, min_samples_split=0.001, n_estimators=50 \u001b[0m\n",
      "\u001b[34m[CV] class_weight=balanced, max_depth=10, min_samples_split=0.001, n_estimators=1000 \u001b[0m\n",
      "\u001b[34m[CV]  class_weight=balanced, max_depth=10, min_samples_split=0.001, n_estimators=50, total=   5.0s\u001b[0m\n",
      "\u001b[34m[CV]  class_weight=balanced, max_depth=10, min_samples_split=0.001, n_estimators=50, total=   5.1s\u001b[0m\n",
      "\u001b[34m[CV] class_weight=balanced, max_depth=10, min_samples_split=0.001, n_estimators=1000 \u001b[0m\n",
      "\u001b[34m[CV] class_weight=balanced, max_depth=10, min_samples_split=0.001, n_estimators=1000 \u001b[0m\n",
      "\u001b[34m[CV]  class_weight=balanced, max_depth=10, min_samples_split=0.001, n_estimators=50, total=   3.4s\u001b[0m\n",
      "\u001b[34m[CV] class_weight=balanced, max_depth=10, min_samples_split=0.001, n_estimators=1000 \u001b[0m\n",
      "\u001b[34m[CV]  class_weight=balanced, max_depth=10, min_samples_split=0.001, n_estimators=1000, total= 1.6min\u001b[0m\n",
      "\u001b[34m[CV] class_weight=balanced, max_depth=10, min_samples_split=0.001, n_estimators=1000 \u001b[0m\n",
      "\u001b[34m[CV]  class_weight=balanced, max_depth=10, min_samples_split=0.001, n_estimators=1000, total= 1.6min\u001b[0m\n",
      "\u001b[34m[CV] class_weight=balanced, max_depth=10, min_samples_split=0.2, n_estimators=50 \u001b[0m\n",
      "\u001b[34m[CV]  class_weight=balanced, max_depth=10, min_samples_split=0.2, n_estimators=50, total=   2.2s\u001b[0m\n",
      "\u001b[34m[CV] class_weight=balanced, max_depth=10, min_samples_split=0.2, n_estimators=50 \u001b[0m\n",
      "\u001b[34m[CV]  class_weight=balanced, max_depth=10, min_samples_split=0.001, n_estimators=1000, total= 1.6min\u001b[0m\n",
      "\u001b[34m[CV] class_weight=balanced, max_depth=10, min_samples_split=0.2, n_estimators=50 \u001b[0m\n",
      "\u001b[34m[CV]  class_weight=balanced, max_depth=10, min_samples_split=0.2, n_estimators=50, total=   2.8s\u001b[0m\n",
      "\u001b[34m[CV] class_weight=balanced, max_depth=10, min_samples_split=0.2, n_estimators=50 \u001b[0m\n",
      "\u001b[34m[CV]  class_weight=balanced, max_depth=10, min_samples_split=0.2, n_estimators=50, total=   2.8s\u001b[0m\n",
      "\u001b[34m[CV] class_weight=balanced, max_depth=10, min_samples_split=0.2, n_estimators=50 \u001b[0m\n",
      "\u001b[34m[CV]  class_weight=balanced, max_depth=10, min_samples_split=0.001, n_estimators=1000, total= 1.6min\u001b[0m\n",
      "\u001b[34m[CV] class_weight=balanced, max_depth=10, min_samples_split=0.2, n_estimators=1000 \u001b[0m\n",
      "\u001b[34m[CV]  class_weight=balanced, max_depth=10, min_samples_split=0.2, n_estimators=50, total=   2.4s\u001b[0m\n",
      "\u001b[34m[CV] class_weight=balanced, max_depth=10, min_samples_split=0.2, n_estimators=1000 \u001b[0m\n",
      "\u001b[34m[CV]  class_weight=balanced, max_depth=10, min_samples_split=0.2, n_estimators=50, total=   2.4s\u001b[0m\n",
      "\u001b[34m[CV] class_weight=balanced, max_depth=10, min_samples_split=0.2, n_estimators=1000 \u001b[0m\n",
      "\u001b[34m[CV]  class_weight=balanced, max_depth=10, min_samples_split=0.2, n_estimators=1000, total=  41.6s\u001b[0m\n",
      "\u001b[34m[CV] class_weight=balanced, max_depth=10, min_samples_split=0.2, n_estimators=1000 \u001b[0m\n",
      "\u001b[34m[CV]  class_weight=balanced, max_depth=10, min_samples_split=0.2, n_estimators=1000, total=  41.9s\u001b[0m\n",
      "\u001b[34m[CV] class_weight=balanced, max_depth=10, min_samples_split=0.2, n_estimators=1000 \u001b[0m\n",
      "\u001b[34m[CV]  class_weight=balanced, max_depth=10, min_samples_split=0.2, n_estimators=1000, total=  42.5s\u001b[0m\n",
      "\u001b[34m[CV] class_weight=balanced, max_depth=200, min_samples_split=0.001, n_estimators=50 \u001b[0m\n",
      "\u001b[34m[CV]  class_weight=balanced, max_depth=200, min_samples_split=0.001, n_estimators=50, total=   6.6s\u001b[0m\n",
      "\u001b[34m[CV] class_weight=balanced, max_depth=200, min_samples_split=0.001, n_estimators=50 \u001b[0m\n",
      "\u001b[34m[CV]  class_weight=balanced, max_depth=200, min_samples_split=0.001, n_estimators=50, total=   7.8s\u001b[0m\n",
      "\u001b[34m[CV] class_weight=balanced, max_depth=200, min_samples_split=0.001, n_estimators=50 \u001b[0m\n",
      "\u001b[34m[CV]  class_weight=balanced, max_depth=200, min_samples_split=0.001, n_estimators=50, total=   7.7s\u001b[0m\n",
      "\u001b[34m[CV] class_weight=balanced, max_depth=200, min_samples_split=0.001, n_estimators=50 \u001b[0m\n",
      "\u001b[34m[CV]  class_weight=balanced, max_depth=200, min_samples_split=0.001, n_estimators=50, total=   7.7s\u001b[0m\n",
      "\u001b[34m[CV] class_weight=balanced, max_depth=200, min_samples_split=0.001, n_estimators=50 \u001b[0m\n",
      "\u001b[34m[CV]  class_weight=balanced, max_depth=200, min_samples_split=0.001, n_estimators=50, total=   7.7s\u001b[0m\n",
      "\u001b[34m[CV] class_weight=balanced, max_depth=200, min_samples_split=0.001, n_estimators=1000 \u001b[0m\n",
      "\u001b[34m[CV]  class_weight=balanced, max_depth=10, min_samples_split=0.001, n_estimators=1000, total= 1.5min\u001b[0m\n",
      "\u001b[34m[CV] class_weight=balanced, max_depth=200, min_samples_split=0.001, n_estimators=1000 \u001b[0m\n",
      "\u001b[34m[CV]  class_weight=balanced, max_depth=10, min_samples_split=0.2, n_estimators=1000, total=  40.9s\u001b[0m\n",
      "\u001b[34m[CV] class_weight=balanced, max_depth=200, min_samples_split=0.001, n_estimators=1000 \u001b[0m\n",
      "\u001b[34m[CV]  class_weight=balanced, max_depth=10, min_samples_split=0.2, n_estimators=1000, total=  41.1s\u001b[0m\n",
      "\u001b[34m[CV] class_weight=balanced, max_depth=200, min_samples_split=0.001, n_estimators=1000 \u001b[0m\n",
      "\u001b[34m[CV]  class_weight=balanced, max_depth=200, min_samples_split=0.001, n_estimators=1000, total= 2.3min\u001b[0m\n",
      "\u001b[34m[CV] class_weight=balanced, max_depth=200, min_samples_split=0.001, n_estimators=1000 \u001b[0m\n",
      "\u001b[34m[CV]  class_weight=balanced, max_depth=200, min_samples_split=0.001, n_estimators=1000, total= 2.3min\u001b[0m\n",
      "\u001b[34m[CV] class_weight=balanced, max_depth=200, min_samples_split=0.2, n_estimators=50 \u001b[0m\n",
      "\u001b[34m[CV]  class_weight=balanced, max_depth=200, min_samples_split=0.001, n_estimators=1000, total= 2.3min\u001b[0m\n",
      "\u001b[34m[CV] class_weight=balanced, max_depth=200, min_samples_split=0.2, n_estimators=50 \u001b[0m\n",
      "\u001b[34m[CV]  class_weight=balanced, max_depth=200, min_samples_split=0.2, n_estimators=50, total=   2.5s\u001b[0m\n",
      "\u001b[34m[CV] class_weight=balanced, max_depth=200, min_samples_split=0.2, n_estimators=50 \u001b[0m\n",
      "\u001b[34m[CV]  class_weight=balanced, max_depth=200, min_samples_split=0.001, n_estimators=1000, total= 2.3min\u001b[0m\n",
      "\u001b[34m[CV] class_weight=balanced, max_depth=200, min_samples_split=0.2, n_estimators=50 \u001b[0m\n",
      "\u001b[34m[CV]  class_weight=balanced, max_depth=200, min_samples_split=0.2, n_estimators=50, total=   2.5s\u001b[0m\n",
      "\u001b[34m[CV] class_weight=balanced, max_depth=200, min_samples_split=0.2, n_estimators=50 \u001b[0m\n",
      "\u001b[34m[CV]  class_weight=balanced, max_depth=200, min_samples_split=0.2, n_estimators=50, total=   2.6s\u001b[0m\n",
      "\u001b[34m[CV] class_weight=balanced, max_depth=200, min_samples_split=0.2, n_estimators=1000 \u001b[0m\n",
      "\u001b[34m[CV]  class_weight=balanced, max_depth=200, min_samples_split=0.2, n_estimators=50, total=   2.6s\u001b[0m\n",
      "\u001b[34m[Parallel(n_jobs=-1)]: Done  33 tasks      | elapsed:  5.5min\u001b[0m\n",
      "\u001b[34m[CV] class_weight=balanced, max_depth=200, min_samples_split=0.2, n_estimators=1000 \u001b[0m\n",
      "\u001b[34m[CV]  class_weight=balanced, max_depth=200, min_samples_split=0.2, n_estimators=50, total=   1.9s\u001b[0m\n",
      "\u001b[34m[CV] class_weight=balanced, max_depth=200, min_samples_split=0.2, n_estimators=1000 \u001b[0m\n",
      "\u001b[34m[CV]  class_weight=balanced, max_depth=200, min_samples_split=0.2, n_estimators=1000, total=  41.8s\u001b[0m\n",
      "\u001b[34m[CV] class_weight=balanced, max_depth=200, min_samples_split=0.2, n_estimators=1000 \u001b[0m\n",
      "\u001b[34m[CV]  class_weight=balanced, max_depth=200, min_samples_split=0.2, n_estimators=1000, total=  43.0s\u001b[0m\n",
      "\u001b[34m[CV] class_weight=balanced, max_depth=200, min_samples_split=0.2, n_estimators=1000 \u001b[0m\n",
      "\u001b[34m[CV]  class_weight=balanced, max_depth=200, min_samples_split=0.2, n_estimators=1000, total=  42.5s\u001b[0m\n",
      "\u001b[34m[CV]  class_weight=balanced, max_depth=200, min_samples_split=0.2, n_estimators=1000, total=  31.8s\u001b[0m\n",
      "\u001b[34m[CV]  class_weight=balanced, max_depth=200, min_samples_split=0.2, n_estimators=1000, total=  32.6s\u001b[0m\n",
      "\u001b[34m[CV]  class_weight=balanced, max_depth=200, min_samples_split=0.001, n_estimators=1000, total= 1.5min\u001b[0m\n",
      "\u001b[34m[Parallel(n_jobs=-1)]: Done  40 out of  40 | elapsed:  6.9min finished\u001b[0m\n",
      "\u001b[34m2020-10-27 00:08:27,917 sagemaker-training-toolkit INFO     Reporting training SUCCESS\u001b[0m\n",
      "\n",
      "2020-10-27 00:08:38 Uploading - Uploading generated training model\n",
      "2020-10-27 00:08:38 Completed - Training job completed\n",
      "Training seconds: 512\n",
      "Billable seconds: 512\n",
      "CPU times: user 1.55 s, sys: 62 ms, total: 1.62 s\n",
      "Wall time: 11min 17s\n"
     ]
    }
   ],
   "source": [
    "%%time\n",
    "\n",
    "# Train your estimator on S3 training data\n",
    "\n",
    "sklearn_estimator.fit({'train': data_location})"
   ]
  },
  {
   "cell_type": "markdown",
   "metadata": {},
   "source": [
    "Download model artifacts and check score"
   ]
  },
  {
   "cell_type": "code",
   "execution_count": 29,
   "metadata": {},
   "outputs": [],
   "source": [
    "bucket_name = sklearn_estimator.output_path[5:-1]\n",
    "training_job_name = sklearn_estimator._current_job_name\n",
    "model_key = '{}/output/model.tar.gz'.format(training_job_name)\n",
    "\n",
    "# download model artifacts\n",
    "boto3.resource('s3').Bucket(bucket_name).download_file(model_key, 'model.tar.gz')\n",
    "# unzipping as model_algo-1\n",
    "os.system('tar -zxvf model.tar.gz')\n",
    "os.system('unzip model_algo-1')"
   ]
  },
  {
   "cell_type": "markdown",
   "metadata": {},
   "source": [
    "Load model and check score"
   ]
  },
  {
   "cell_type": "code",
   "execution_count": 33,
   "metadata": {},
   "outputs": [],
   "source": [
    "import joblib"
   ]
  },
  {
   "cell_type": "code",
   "execution_count": 34,
   "metadata": {},
   "outputs": [
    {
     "name": "stderr",
     "output_type": "stream",
     "text": [
      "/home/ec2-user/anaconda3/envs/pytorch_latest_p36/lib/python3.6/site-packages/sklearn/base.py:318: UserWarning: Trying to unpickle estimator DecisionTreeClassifier from version 0.23.2 when using version 0.22.1. This might lead to breaking code or invalid results. Use at your own risk.\n",
      "  UserWarning)\n",
      "/home/ec2-user/anaconda3/envs/pytorch_latest_p36/lib/python3.6/site-packages/sklearn/base.py:318: UserWarning: Trying to unpickle estimator RandomForestClassifier from version 0.23.2 when using version 0.22.1. This might lead to breaking code or invalid results. Use at your own risk.\n",
      "  UserWarning)\n",
      "/home/ec2-user/anaconda3/envs/pytorch_latest_p36/lib/python3.6/site-packages/sklearn/base.py:318: UserWarning: Trying to unpickle estimator GridSearchCV from version 0.23.2 when using version 0.22.1. This might lead to breaking code or invalid results. Use at your own risk.\n",
      "  UserWarning)\n"
     ]
    }
   ],
   "source": [
    "model = joblib.load('model.joblib')"
   ]
  },
  {
   "cell_type": "code",
   "execution_count": 37,
   "metadata": {},
   "outputs": [
    {
     "name": "stdout",
     "output_type": "stream",
     "text": [
      "Model score: 0.6899\n"
     ]
    }
   ],
   "source": [
    "print('Model score: %.4f' % model.best_score_)"
   ]
  },
  {
   "cell_type": "markdown",
   "metadata": {},
   "source": [
    "#### Generate test predictions"
   ]
  },
  {
   "cell_type": "code",
   "execution_count": 38,
   "metadata": {},
   "outputs": [
    {
     "name": "stderr",
     "output_type": "stream",
     "text": [
      "Parameter image will be renamed to image_uri in SageMaker Python SDK v2.\n"
     ]
    },
    {
     "name": "stdout",
     "output_type": "stream",
     "text": [
      "---------------------!CPU times: user 392 ms, sys: 29.6 ms, total: 421 ms\n",
      "Wall time: 10min 33s\n"
     ]
    }
   ],
   "source": [
    "%%time\n",
    "\n",
    "# deploy your model to create a predictor\n",
    "sklearn_predictor = sklearn_estimator.deploy(initial_instance_count=1, instance_type='ml.t2.medium')"
   ]
  },
  {
   "cell_type": "code",
   "execution_count": null,
   "metadata": {},
   "outputs": [],
   "source": [
    "test_df = bucket.read_parquet('Udacity_MAILOUT_052018_TEST_mm.parquet')\n",
    "batch_size = 100\n",
    "predictions = []\n",
    "for k in range(len(test_df) // batch_size + 1):\n",
    "    batch = test_df.values[k*batch_size:(k+1)*batch_size, :]\n",
    "    pred = sklearn_predictor.predict(batch.astype(np.float32))\n",
    "    predictions.extend(pred)\n",
    "predictions = np.squeeze(np.vstack(predictions))"
   ]
  },
  {
   "cell_type": "markdown",
   "metadata": {},
   "source": [
    "#### Save results for Kaggle submission¶\n"
   ]
  },
  {
   "cell_type": "code",
   "execution_count": 44,
   "metadata": {},
   "outputs": [
    {
     "data": {
      "text/plain": [
       "'sklearn_10_27_20__00_39.csv'"
      ]
     },
     "execution_count": 44,
     "metadata": {},
     "output_type": "execute_result"
    }
   ],
   "source": [
    "save_for_kaggle(predictions, 'sklearn')"
   ]
  },
  {
   "cell_type": "markdown",
   "metadata": {},
   "source": [
    "#### Cleanup resources\n"
   ]
  },
  {
   "cell_type": "code",
   "execution_count": null,
   "metadata": {},
   "outputs": [],
   "source": [
    "sklearn_predictor.delete_endpoint()"
   ]
  },
  {
   "cell_type": "markdown",
   "metadata": {},
   "source": [
    "## Pytorch Model\n",
    "\n",
    "Train a Pytorch Neural Network with 3 hidden layers using early stopping and regularization to avoid overfitting."
   ]
  },
  {
   "cell_type": "code",
   "execution_count": null,
   "metadata": {},
   "outputs": [],
   "source": [
    "data_location = 's3://{}/{}'.format(pytorch_data_bucket.bucket_name, pytorch_data_bucket.prefix)\n",
    "pytorch_data_bucket.get_files()"
   ]
  },
  {
   "cell_type": "markdown",
   "metadata": {},
   "source": [
    "#### Train model"
   ]
  },
  {
   "cell_type": "markdown",
   "metadata": {},
   "source": [
    "Define PyTorch estimator"
   ]
  },
  {
   "cell_type": "code",
   "execution_count": 32,
   "metadata": {},
   "outputs": [],
   "source": [
    "from sagemaker.pytorch import PyTorch\n",
    "\n",
    "FRAMEWORK_VERSION = \"1.0\"\n",
    "output_path = 's3://{}/{}'.format(models_bucket.bucket_name, models_bucket.prefix)\n",
    "\n",
    "# instantiate a pytorch estimator\n",
    "pytorch_estimator = PyTorch(entry_point='train.py',\n",
    "                            source_dir='pytorch',\n",
    "                            role=role,\n",
    "                            framework_version=FRAMEWORK_VERSION,\n",
    "                            train_instance_count=1,\n",
    "                            train_instance_type='ml.c4.xlarge',\n",
    "                            output_path=output_path,\n",
    "                            sagemaker_session=sagemaker_session,\n",
    "                            hyperparameters={\n",
    "                                'input_features': 418,  # num of features\n",
    "                                'lr': 1e-4, # learning rate\n",
    "                                'l2_reg': 1e-4, # weight decay\n",
    "                                'hidden_dim1': 64, # dimmension of hidden layer 1\n",
    "                                'hidden_dim2': 32, # dimmension of hidden layer 2\n",
    "                                'hidden_dim3': 16, # dimmension of hidden layer 2\n",
    "                                'output_dim': 1, # number of output classes\n",
    "                                'dropout_rate': 0.4, # dropout rate\n",
    "                                'epochs': 100, # number of epochs,\n",
    "                                'patience': 10, # number of epochs without improvement before early stop\n",
    "                                'batch-size': 300\n",
    "                            },\n",
    "                           )"
   ]
  },
  {
   "cell_type": "markdown",
   "metadata": {},
   "source": [
    "Train estimator"
   ]
  },
  {
   "cell_type": "code",
   "execution_count": 33,
   "metadata": {},
   "outputs": [
    {
     "name": "stderr",
     "output_type": "stream",
     "text": [
      "'create_image_uri' will be deprecated in favor of 'ImageURIProvider' class in SageMaker Python SDK v2.\n",
      "'s3_input' class will be renamed to 'TrainingInput' in SageMaker Python SDK v2.\n",
      "'create_image_uri' will be deprecated in favor of 'ImageURIProvider' class in SageMaker Python SDK v2.\n"
     ]
    },
    {
     "name": "stdout",
     "output_type": "stream",
     "text": [
      "2020-10-26 01:03:08 Starting - Starting the training job...\n",
      "2020-10-26 01:03:11 Starting - Launching requested ML instances......\n",
      "2020-10-26 01:04:21 Starting - Preparing the instances for training...\n",
      "2020-10-26 01:05:02 Downloading - Downloading input data...\n",
      "2020-10-26 01:05:24 Training - Downloading the training image..\u001b[34mbash: cannot set terminal process group (-1): Inappropriate ioctl for device\u001b[0m\n",
      "\u001b[34mbash: no job control in this shell\u001b[0m\n",
      "\u001b[34m2020-10-26 01:05:49,187 sagemaker-containers INFO     Imported framework sagemaker_pytorch_container.training\u001b[0m\n",
      "\u001b[34m2020-10-26 01:05:49,190 sagemaker-containers INFO     No GPUs detected (normal if no gpus installed)\u001b[0m\n",
      "\u001b[34m2020-10-26 01:05:49,203 sagemaker_pytorch_container.training INFO     Block until all host DNS lookups succeed.\u001b[0m\n",
      "\u001b[34m2020-10-26 01:05:52,228 sagemaker_pytorch_container.training INFO     Invoking user training script.\u001b[0m\n",
      "\u001b[34m2020-10-26 01:05:52,872 sagemaker-containers INFO     Module train does not provide a setup.py. \u001b[0m\n",
      "\u001b[34mGenerating setup.py\u001b[0m\n",
      "\u001b[34m2020-10-26 01:05:52,873 sagemaker-containers INFO     Generating setup.cfg\u001b[0m\n",
      "\u001b[34m2020-10-26 01:05:52,873 sagemaker-containers INFO     Generating MANIFEST.in\u001b[0m\n",
      "\u001b[34m2020-10-26 01:05:52,873 sagemaker-containers INFO     Installing module with the following command:\u001b[0m\n",
      "\u001b[34m/usr/bin/python -m pip install -U . -r requirements.txt\u001b[0m\n",
      "\u001b[34mProcessing /opt/ml/code\u001b[0m\n",
      "\u001b[34mCollecting scikit-learn>=0.22 (from -r requirements.txt (line 1))\n",
      "  Downloading https://files.pythonhosted.org/packages/5c/a1/273def87037a7fb010512bbc5901c31cfddfca8080bc63b42b26e3cc55b3/scikit_learn-0.23.2-cp36-cp36m-manylinux1_x86_64.whl (6.8MB)\u001b[0m\n",
      "\u001b[34mCollecting threadpoolctl>=2.0.0 (from scikit-learn>=0.22->-r requirements.txt (line 1))\n",
      "  Downloading https://files.pythonhosted.org/packages/f7/12/ec3f2e203afa394a149911729357aa48affc59c20e2c1c8297a60f33f133/threadpoolctl-2.1.0-py3-none-any.whl\u001b[0m\n",
      "\u001b[34mCollecting joblib>=0.11 (from scikit-learn>=0.22->-r requirements.txt (line 1))\n",
      "  Downloading https://files.pythonhosted.org/packages/fc/c9/f58220ac44a1592f79a343caba12f6837f9e0c04c196176a3d66338e1ea8/joblib-0.17.0-py3-none-any.whl (301kB)\u001b[0m\n",
      "\u001b[34mRequirement already satisfied, skipping upgrade: scipy>=0.19.1 in /usr/local/lib/python3.6/dist-packages (from scikit-learn>=0.22->-r requirements.txt (line 1)) (1.3.0)\u001b[0m\n",
      "\u001b[34mRequirement already satisfied, skipping upgrade: numpy>=1.13.3 in /usr/local/lib/python3.6/dist-packages (from scikit-learn>=0.22->-r requirements.txt (line 1)) (1.16.4)\u001b[0m\n",
      "\u001b[34mBuilding wheels for collected packages: train\n",
      "  Running setup.py bdist_wheel for train: started\n",
      "  Running setup.py bdist_wheel for train: finished with status 'done'\n",
      "  Stored in directory: /tmp/pip-ephem-wheel-cache-p6qzm9cj/wheels/35/24/16/37574d11bf9bde50616c67372a334f94fa8356bc7164af8ca3\u001b[0m\n",
      "\u001b[34mSuccessfully built train\u001b[0m\n",
      "\n",
      "2020-10-26 01:05:47 Training - Training image download completed. Training in progress.\u001b[34mInstalling collected packages: threadpoolctl, joblib, scikit-learn, train\u001b[0m\n",
      "\u001b[34mSuccessfully installed joblib-0.17.0 scikit-learn-0.23.2 threadpoolctl-2.1.0 train-1.0.0\u001b[0m\n",
      "\u001b[34mYou are using pip version 18.1, however version 20.2.4 is available.\u001b[0m\n",
      "\u001b[34mYou should consider upgrading via the 'pip install --upgrade pip' command.\u001b[0m\n",
      "\u001b[34m2020-10-26 01:05:57,158 sagemaker-containers INFO     No GPUs detected (normal if no gpus installed)\u001b[0m\n",
      "\u001b[34m2020-10-26 01:05:57,171 sagemaker-containers INFO     Invoking user script\n",
      "\u001b[0m\n",
      "\u001b[34mTraining Env:\n",
      "\u001b[0m\n",
      "\u001b[34m{\n",
      "    \"additional_framework_parameters\": {},\n",
      "    \"channel_input_dirs\": {\n",
      "        \"train\": \"/opt/ml/input/data/train\"\n",
      "    },\n",
      "    \"current_host\": \"algo-1\",\n",
      "    \"framework_module\": \"sagemaker_pytorch_container.training:main\",\n",
      "    \"hosts\": [\n",
      "        \"algo-1\"\n",
      "    ],\n",
      "    \"hyperparameters\": {\n",
      "        \"dropout_rate\": 0.4,\n",
      "        \"l2_reg\": 0.0001,\n",
      "        \"lr\": 0.0001,\n",
      "        \"input_features\": 418,\n",
      "        \"hidden_dim3\": 16,\n",
      "        \"batch-size\": 300,\n",
      "        \"hidden_dim2\": 32,\n",
      "        \"hidden_dim1\": 64,\n",
      "        \"patience\": 10,\n",
      "        \"epochs\": 100,\n",
      "        \"output_dim\": 1\n",
      "    },\n",
      "    \"input_config_dir\": \"/opt/ml/input/config\",\n",
      "    \"input_data_config\": {\n",
      "        \"train\": {\n",
      "            \"TrainingInputMode\": \"File\",\n",
      "            \"S3DistributionType\": \"FullyReplicated\",\n",
      "            \"RecordWrapperType\": \"None\"\n",
      "        }\n",
      "    },\n",
      "    \"input_dir\": \"/opt/ml/input\",\n",
      "    \"is_master\": true,\n",
      "    \"job_name\": \"sagemaker-pytorch-2020-10-26-01-03-08-374\",\n",
      "    \"log_level\": 20,\n",
      "    \"master_hostname\": \"algo-1\",\n",
      "    \"model_dir\": \"/opt/ml/model\",\n",
      "    \"module_dir\": \"s3://arvatos-capstone/sagemaker-pytorch-2020-10-26-01-03-08-374/source/sourcedir.tar.gz\",\n",
      "    \"module_name\": \"train\",\n",
      "    \"network_interface_name\": \"eth0\",\n",
      "    \"num_cpus\": 4,\n",
      "    \"num_gpus\": 0,\n",
      "    \"output_data_dir\": \"/opt/ml/output/data\",\n",
      "    \"output_dir\": \"/opt/ml/output\",\n",
      "    \"output_intermediate_dir\": \"/opt/ml/output/intermediate\",\n",
      "    \"resource_config\": {\n",
      "        \"current_host\": \"algo-1\",\n",
      "        \"hosts\": [\n",
      "            \"algo-1\"\n",
      "        ],\n",
      "        \"network_interface_name\": \"eth0\"\n",
      "    },\n",
      "    \"user_entry_point\": \"train.py\"\u001b[0m\n",
      "\u001b[34m}\n",
      "\u001b[0m\n",
      "\u001b[34mEnvironment variables:\n",
      "\u001b[0m\n",
      "\u001b[34mSM_HOSTS=[\"algo-1\"]\u001b[0m\n",
      "\u001b[34mSM_NETWORK_INTERFACE_NAME=eth0\u001b[0m\n",
      "\u001b[34mSM_HPS={\"batch-size\":300,\"dropout_rate\":0.4,\"epochs\":100,\"hidden_dim1\":64,\"hidden_dim2\":32,\"hidden_dim3\":16,\"input_features\":418,\"l2_reg\":0.0001,\"lr\":0.0001,\"output_dim\":1,\"patience\":10}\u001b[0m\n",
      "\u001b[34mSM_USER_ENTRY_POINT=train.py\u001b[0m\n",
      "\u001b[34mSM_FRAMEWORK_PARAMS={}\u001b[0m\n",
      "\u001b[34mSM_RESOURCE_CONFIG={\"current_host\":\"algo-1\",\"hosts\":[\"algo-1\"],\"network_interface_name\":\"eth0\"}\u001b[0m\n",
      "\u001b[34mSM_INPUT_DATA_CONFIG={\"train\":{\"RecordWrapperType\":\"None\",\"S3DistributionType\":\"FullyReplicated\",\"TrainingInputMode\":\"File\"}}\u001b[0m\n",
      "\u001b[34mSM_OUTPUT_DATA_DIR=/opt/ml/output/data\u001b[0m\n",
      "\u001b[34mSM_CHANNELS=[\"train\"]\u001b[0m\n",
      "\u001b[34mSM_CURRENT_HOST=algo-1\u001b[0m\n",
      "\u001b[34mSM_MODULE_NAME=train\u001b[0m\n",
      "\u001b[34mSM_LOG_LEVEL=20\u001b[0m\n",
      "\u001b[34mSM_FRAMEWORK_MODULE=sagemaker_pytorch_container.training:main\u001b[0m\n",
      "\u001b[34mSM_INPUT_DIR=/opt/ml/input\u001b[0m\n",
      "\u001b[34mSM_INPUT_CONFIG_DIR=/opt/ml/input/config\u001b[0m\n",
      "\u001b[34mSM_OUTPUT_DIR=/opt/ml/output\u001b[0m\n",
      "\u001b[34mSM_NUM_CPUS=4\u001b[0m\n",
      "\u001b[34mSM_NUM_GPUS=0\u001b[0m\n",
      "\u001b[34mSM_MODEL_DIR=/opt/ml/model\u001b[0m\n",
      "\u001b[34mSM_MODULE_DIR=s3://arvatos-capstone/sagemaker-pytorch-2020-10-26-01-03-08-374/source/sourcedir.tar.gz\u001b[0m\n",
      "\u001b[34mSM_TRAINING_ENV={\"additional_framework_parameters\":{},\"channel_input_dirs\":{\"train\":\"/opt/ml/input/data/train\"},\"current_host\":\"algo-1\",\"framework_module\":\"sagemaker_pytorch_container.training:main\",\"hosts\":[\"algo-1\"],\"hyperparameters\":{\"batch-size\":300,\"dropout_rate\":0.4,\"epochs\":100,\"hidden_dim1\":64,\"hidden_dim2\":32,\"hidden_dim3\":16,\"input_features\":418,\"l2_reg\":0.0001,\"lr\":0.0001,\"output_dim\":1,\"patience\":10},\"input_config_dir\":\"/opt/ml/input/config\",\"input_data_config\":{\"train\":{\"RecordWrapperType\":\"None\",\"S3DistributionType\":\"FullyReplicated\",\"TrainingInputMode\":\"File\"}},\"input_dir\":\"/opt/ml/input\",\"is_master\":true,\"job_name\":\"sagemaker-pytorch-2020-10-26-01-03-08-374\",\"log_level\":20,\"master_hostname\":\"algo-1\",\"model_dir\":\"/opt/ml/model\",\"module_dir\":\"s3://arvatos-capstone/sagemaker-pytorch-2020-10-26-01-03-08-374/source/sourcedir.tar.gz\",\"module_name\":\"train\",\"network_interface_name\":\"eth0\",\"num_cpus\":4,\"num_gpus\":0,\"output_data_dir\":\"/opt/ml/output/data\",\"output_dir\":\"/opt/ml/output\",\"output_intermediate_dir\":\"/opt/ml/output/intermediate\",\"resource_config\":{\"current_host\":\"algo-1\",\"hosts\":[\"algo-1\"],\"network_interface_name\":\"eth0\"},\"user_entry_point\":\"train.py\"}\u001b[0m\n",
      "\u001b[34mSM_USER_ARGS=[\"--batch-size\",\"300\",\"--dropout_rate\",\"0.4\",\"--epochs\",\"100\",\"--hidden_dim1\",\"64\",\"--hidden_dim2\",\"32\",\"--hidden_dim3\",\"16\",\"--input_features\",\"418\",\"--l2_reg\",\"0.0001\",\"--lr\",\"0.0001\",\"--output_dim\",\"1\",\"--patience\",\"10\"]\u001b[0m\n",
      "\u001b[34mSM_OUTPUT_INTERMEDIATE_DIR=/opt/ml/output/intermediate\u001b[0m\n",
      "\u001b[34mSM_CHANNEL_TRAIN=/opt/ml/input/data/train\u001b[0m\n",
      "\u001b[34mSM_HP_DROPOUT_RATE=0.4\u001b[0m\n",
      "\u001b[34mSM_HP_L2_REG=0.0001\u001b[0m\n",
      "\u001b[34mSM_HP_LR=0.0001\u001b[0m\n",
      "\u001b[34mSM_HP_INPUT_FEATURES=418\u001b[0m\n",
      "\u001b[34mSM_HP_HIDDEN_DIM3=16\u001b[0m\n",
      "\u001b[34mSM_HP_BATCH-SIZE=300\u001b[0m\n",
      "\u001b[34mSM_HP_HIDDEN_DIM2=32\u001b[0m\n",
      "\u001b[34mSM_HP_HIDDEN_DIM1=64\u001b[0m\n",
      "\u001b[34mSM_HP_PATIENCE=10\u001b[0m\n",
      "\u001b[34mSM_HP_EPOCHS=100\u001b[0m\n",
      "\u001b[34mSM_HP_OUTPUT_DIM=1\u001b[0m\n",
      "\u001b[34mPYTHONPATH=/usr/local/bin:/usr/lib/python36.zip:/usr/lib/python3.6:/usr/lib/python3.6/lib-dynload:/usr/local/lib/python3.6/dist-packages:/usr/lib/python3/dist-packages\n",
      "\u001b[0m\n",
      "\u001b[34mInvoking script with the following command:\n",
      "\u001b[0m\n",
      "\u001b[34m/usr/bin/python -m train --batch-size 300 --dropout_rate 0.4 --epochs 100 --hidden_dim1 64 --hidden_dim2 32 --hidden_dim3 16 --input_features 418 --l2_reg 0.0001 --lr 0.0001 --output_dim 1 --patience 10\n",
      "\n",
      "\u001b[0m\n",
      "\u001b[34mUsing device cpu.\u001b[0m\n",
      "\u001b[34mGet train data loader.\u001b[0m\n",
      "\u001b[34mGet validation data loader.\u001b[0m\n",
      "\u001b[34mEpoch: 1, Loss: 0.7601625608901182\u001b[0m\n",
      "\u001b[34mROC on test set is 0.51939\u001b[0m\n",
      "\u001b[34mSaving model ...\u001b[0m\n",
      "\u001b[34mEpoch: 2, Loss: 0.5060382420197129\u001b[0m\n",
      "\u001b[34mROC on test set is 0.52197\u001b[0m\n",
      "\u001b[34mSaving model ...\u001b[0m\n",
      "\u001b[34mEpoch: 3, Loss: 0.2604560588176052\u001b[0m\n",
      "\u001b[34mROC on test set is 0.52621\u001b[0m\n",
      "\u001b[34mSaving model ...\u001b[0m\n",
      "\u001b[34mEpoch: 4, Loss: 0.17048791407917938\u001b[0m\n",
      "\u001b[34mROC on test set is 0.52706\u001b[0m\n",
      "\u001b[34mSaving model ...\u001b[0m\n",
      "\u001b[34mEpoch: 5, Loss: 0.1311264323691527\u001b[0m\n",
      "\u001b[34mROC on test set is 0.52876\u001b[0m\n",
      "\u001b[34mSaving model ...\u001b[0m\n",
      "\u001b[34mEpoch: 6, Loss: 0.1136421983052666\u001b[0m\n",
      "\u001b[34mROC on test set is 0.53186\u001b[0m\n",
      "\u001b[34mSaving model ...\u001b[0m\n",
      "\u001b[34mEpoch: 7, Loss: 0.10243959662814935\u001b[0m\n",
      "\u001b[34mROC on test set is 0.53410\u001b[0m\n",
      "\u001b[34mSaving model ...\u001b[0m\n",
      "\u001b[34mEpoch: 8, Loss: 0.1008120109521163\u001b[0m\n",
      "\u001b[34mROC on test set is 0.54115\u001b[0m\n",
      "\u001b[34mSaving model ...\u001b[0m\n",
      "\u001b[34mEpoch: 9, Loss: 0.0976870847128642\u001b[0m\n",
      "\u001b[34mROC on test set is 0.54283\u001b[0m\n",
      "\u001b[34mSaving model ...\u001b[0m\n",
      "\u001b[34mEpoch: 10, Loss: 0.0931234928430058\u001b[0m\n",
      "\u001b[34mROC on test set is 0.54269\u001b[0m\n",
      "\u001b[34mEpoch: 11, Loss: 0.09457089631663014\u001b[0m\n",
      "\u001b[34mROC on test set is 0.54437\u001b[0m\n",
      "\u001b[34mSaving model ...\u001b[0m\n",
      "\u001b[34mEpoch: 12, Loss: 0.09362579507675643\u001b[0m\n",
      "\u001b[34mROC on test set is 0.54881\u001b[0m\n",
      "\u001b[34mSaving model ...\u001b[0m\n",
      "\u001b[34mEpoch: 13, Loss: 0.09024789351193856\u001b[0m\n",
      "\u001b[34mROC on test set is 0.54865\u001b[0m\n",
      "\u001b[34mEpoch: 14, Loss: 0.0875171862814265\u001b[0m\n",
      "\u001b[34mROC on test set is 0.55272\u001b[0m\n",
      "\u001b[34mSaving model ...\u001b[0m\n",
      "\u001b[34mEpoch: 15, Loss: 0.08851788507308811\u001b[0m\n",
      "\u001b[34mROC on test set is 0.55950\u001b[0m\n",
      "\u001b[34mSaving model ...\u001b[0m\n",
      "\u001b[34mEpoch: 16, Loss: 0.08797187278590475\u001b[0m\n",
      "\u001b[34mROC on test set is 0.56571\u001b[0m\n",
      "\u001b[34mSaving model ...\u001b[0m\n",
      "\u001b[34mEpoch: 17, Loss: 0.08750706140805657\u001b[0m\n",
      "\u001b[34mROC on test set is 0.57437\u001b[0m\n",
      "\u001b[34mSaving model ...\u001b[0m\n",
      "\u001b[34mEpoch: 18, Loss: 0.08641123383616407\u001b[0m\n",
      "\u001b[34mROC on test set is 0.58373\u001b[0m\n",
      "\u001b[34mSaving model ...\u001b[0m\n",
      "\u001b[34mEpoch: 19, Loss: 0.08686903448930632\u001b[0m\n",
      "\u001b[34mROC on test set is 0.59031\u001b[0m\n",
      "\u001b[34mSaving model ...\u001b[0m\n",
      "\u001b[34mEpoch: 20, Loss: 0.0883883322045828\u001b[0m\n",
      "\u001b[34mROC on test set is 0.59647\u001b[0m\n",
      "\u001b[34mSaving model ...\u001b[0m\n",
      "\u001b[34mEpoch: 21, Loss: 0.08574237794770549\u001b[0m\n",
      "\u001b[34mROC on test set is 0.60142\u001b[0m\n",
      "\u001b[34mSaving model ...\u001b[0m\n",
      "\u001b[34mEpoch: 22, Loss: 0.08684021998972942\u001b[0m\n",
      "\u001b[34mROC on test set is 0.60703\u001b[0m\n",
      "\u001b[34mSaving model ...\u001b[0m\n",
      "\u001b[34mEpoch: 23, Loss: 0.08526274880083899\u001b[0m\n",
      "\u001b[34mROC on test set is 0.61442\u001b[0m\n",
      "\u001b[34mSaving model ...\u001b[0m\n",
      "\u001b[34mEpoch: 24, Loss: 0.08526174415601417\u001b[0m\n",
      "\u001b[34mROC on test set is 0.62146\u001b[0m\n",
      "\u001b[34mSaving model ...\u001b[0m\n",
      "\u001b[34mEpoch: 25, Loss: 0.08445861264287184\u001b[0m\n",
      "\u001b[34mROC on test set is 0.62214\u001b[0m\n",
      "\u001b[34mSaving model ...\u001b[0m\n",
      "\u001b[34mEpoch: 26, Loss: 0.08520552752694736\u001b[0m\n",
      "\u001b[34mROC on test set is 0.63093\u001b[0m\n",
      "\u001b[34mSaving model ...\u001b[0m\n",
      "\u001b[34mEpoch: 27, Loss: 0.08607748882301773\u001b[0m\n",
      "\u001b[34mROC on test set is 0.63504\u001b[0m\n",
      "\u001b[34mSaving model ...\u001b[0m\n",
      "\u001b[34mEpoch: 28, Loss: 0.08567581484870364\u001b[0m\n",
      "\u001b[34mROC on test set is 0.63865\u001b[0m\n",
      "\u001b[34mSaving model ...\u001b[0m\n",
      "\u001b[34mEpoch: 29, Loss: 0.0832362393848598\u001b[0m\n",
      "\u001b[34mROC on test set is 0.64230\u001b[0m\n",
      "\u001b[34mSaving model ...\u001b[0m\n",
      "\u001b[34mEpoch: 30, Loss: 0.0831941815558821\u001b[0m\n",
      "\u001b[34mROC on test set is 0.64709\u001b[0m\n",
      "\u001b[34mSaving model ...\u001b[0m\n",
      "\u001b[34mEpoch: 31, Loss: 0.08090540138073266\u001b[0m\n",
      "\u001b[34mROC on test set is 0.64918\u001b[0m\n",
      "\u001b[34mSaving model ...\u001b[0m\n",
      "\u001b[34mEpoch: 32, Loss: 0.08280592487426475\u001b[0m\n",
      "\u001b[34mROC on test set is 0.65399\u001b[0m\n",
      "\u001b[34mSaving model ...\u001b[0m\n",
      "\u001b[34mEpoch: 33, Loss: 0.08353225919806088\u001b[0m\n",
      "\u001b[34mROC on test set is 0.65561\u001b[0m\n",
      "\u001b[34mSaving model ...\u001b[0m\n",
      "\u001b[34mEpoch: 34, Loss: 0.08362369860212009\u001b[0m\n",
      "\u001b[34mROC on test set is 0.66114\u001b[0m\n",
      "\u001b[34mSaving model ...\u001b[0m\n",
      "\u001b[34mEpoch: 35, Loss: 0.0827620832521158\u001b[0m\n",
      "\u001b[34mROC on test set is 0.66141\u001b[0m\n",
      "\u001b[34mSaving model ...\u001b[0m\n",
      "\u001b[34mEpoch: 36, Loss: 0.0805855479169016\u001b[0m\n",
      "\u001b[34mROC on test set is 0.66285\u001b[0m\n",
      "\u001b[34mSaving model ...\u001b[0m\n",
      "\u001b[34mEpoch: 37, Loss: 0.08051279365705948\u001b[0m\n",
      "\u001b[34mROC on test set is 0.66697\u001b[0m\n",
      "\u001b[34mSaving model ...\u001b[0m\n",
      "\u001b[34mEpoch: 38, Loss: 0.08123752903581287\u001b[0m\n",
      "\u001b[34mROC on test set is 0.66794\u001b[0m\n",
      "\u001b[34mSaving model ...\u001b[0m\n",
      "\u001b[34mEpoch: 39, Loss: 0.07839665420275803\u001b[0m\n",
      "\u001b[34mROC on test set is 0.66788\u001b[0m\n",
      "\u001b[34mEpoch: 40, Loss: 0.08006527841401596\u001b[0m\n",
      "\u001b[34mROC on test set is 0.66838\u001b[0m\n",
      "\u001b[34mSaving model ...\u001b[0m\n",
      "\u001b[34mEpoch: 41, Loss: 0.07904004835290834\u001b[0m\n",
      "\u001b[34mROC on test set is 0.67026\u001b[0m\n",
      "\u001b[34mSaving model ...\u001b[0m\n",
      "\u001b[34mEpoch: 42, Loss: 0.07798767293570563\u001b[0m\n",
      "\u001b[34mROC on test set is 0.67106\u001b[0m\n",
      "\u001b[34mSaving model ...\u001b[0m\n",
      "\u001b[34mEpoch: 43, Loss: 0.07717246861041833\u001b[0m\n",
      "\u001b[34mROC on test set is 0.67227\u001b[0m\n",
      "\u001b[34mSaving model ...\u001b[0m\n",
      "\u001b[34mEpoch: 44, Loss: 0.07617684304326151\u001b[0m\n",
      "\u001b[34mROC on test set is 0.67352\u001b[0m\n",
      "\u001b[34mSaving model ...\u001b[0m\n",
      "\u001b[34mEpoch: 45, Loss: 0.07545263322147851\u001b[0m\n",
      "\n",
      "2020-10-26 01:06:38 Uploading - Uploading generated training model\u001b[34mROC on test set is 0.67223\u001b[0m\n",
      "\u001b[34mEpoch: 46, Loss: 0.07792536340033014\u001b[0m\n",
      "\u001b[34mROC on test set is 0.67341\u001b[0m\n",
      "\u001b[34mEpoch: 47, Loss: 0.07576329245542486\u001b[0m\n",
      "\u001b[34mROC on test set is 0.67332\u001b[0m\n",
      "\u001b[34mEpoch: 48, Loss: 0.07584946020506322\u001b[0m\n",
      "\u001b[34mROC on test set is 0.67348\u001b[0m\n",
      "\u001b[34mEpoch: 49, Loss: 0.07467209703948659\u001b[0m\n",
      "\u001b[34mROC on test set is 0.67269\u001b[0m\n",
      "\u001b[34mEpoch: 50, Loss: 0.07432481900711234\u001b[0m\n",
      "\u001b[34mROC on test set is 0.67341\u001b[0m\n",
      "\u001b[34mEpoch: 51, Loss: 0.07272046249515067\u001b[0m\n",
      "\u001b[34mROC on test set is 0.67360\u001b[0m\n",
      "\u001b[34mSaving model ...\u001b[0m\n",
      "\u001b[34mEpoch: 52, Loss: 0.07451533345738426\u001b[0m\n",
      "\u001b[34mROC on test set is 0.67393\u001b[0m\n",
      "\u001b[34mSaving model ...\u001b[0m\n",
      "\u001b[34mEpoch: 53, Loss: 0.07539995922707021\u001b[0m\n",
      "\u001b[34mROC on test set is 0.67503\u001b[0m\n",
      "\u001b[34mSaving model ...\u001b[0m\n",
      "\u001b[34mEpoch: 54, Loss: 0.07408053006899233\u001b[0m\n",
      "\u001b[34mROC on test set is 0.67192\u001b[0m\n",
      "\u001b[34mEpoch: 55, Loss: 0.07410001655807719\u001b[0m\n",
      "\u001b[34mROC on test set is 0.67259\u001b[0m\n",
      "\u001b[34mEpoch: 56, Loss: 0.07219193912654494\u001b[0m\n",
      "\u001b[34mROC on test set is 0.67168\u001b[0m\n",
      "\u001b[34mEpoch: 57, Loss: 0.07590423997802039\u001b[0m\n",
      "\u001b[34mROC on test set is 0.67183\u001b[0m\n",
      "\u001b[34mEpoch: 58, Loss: 0.07077942476219808\u001b[0m\n",
      "\u001b[34mROC on test set is 0.67076\u001b[0m\n",
      "\u001b[34mEpoch: 59, Loss: 0.07300512640116115\u001b[0m\n",
      "\u001b[34mROC on test set is 0.67142\u001b[0m\n",
      "\u001b[34mEpoch: 60, Loss: 0.07149442075751722\u001b[0m\n",
      "\u001b[34mROC on test set is 0.67093\u001b[0m\n",
      "\u001b[34mEpoch: 61, Loss: 0.07052400913865615\u001b[0m\n",
      "\u001b[34mROC on test set is 0.67041\u001b[0m\n",
      "\u001b[34mEpoch: 62, Loss: 0.07044868894930308\u001b[0m\n",
      "\u001b[34mROC on test set is 0.66999\u001b[0m\n",
      "\u001b[34mEpoch: 63, Loss: 0.07011075731134042\u001b[0m\n",
      "\u001b[34mROC on test set is 0.66846\u001b[0m\n",
      "\u001b[34mEarly stopping after 10 epochs without improvement\u001b[0m\n",
      "\u001b[34m2020-10-26 01:06:34,623 sagemaker-containers INFO     Reporting training SUCCESS\u001b[0m\n",
      "\n",
      "2020-10-26 01:06:45 Completed - Training job completed\n",
      "Training seconds: 103\n",
      "Billable seconds: 103\n",
      "CPU times: user 770 ms, sys: 55.3 ms, total: 825 ms\n",
      "Wall time: 4min 13s\n"
     ]
    }
   ],
   "source": [
    "%%time\n",
    "\n",
    "# Train estimator on S3 training data\n",
    "pytorch_estimator.fit({'train': data_location})"
   ]
  },
  {
   "cell_type": "markdown",
   "metadata": {},
   "source": [
    "#### Generate test predictions"
   ]
  },
  {
   "cell_type": "code",
   "execution_count": 48,
   "metadata": {},
   "outputs": [
    {
     "name": "stderr",
     "output_type": "stream",
     "text": [
      "Parameter image will be renamed to image_uri in SageMaker Python SDK v2.\n",
      "'create_image_uri' will be deprecated in favor of 'ImageURIProvider' class in SageMaker Python SDK v2.\n"
     ]
    },
    {
     "name": "stdout",
     "output_type": "stream",
     "text": [
      "-----------------!"
     ]
    }
   ],
   "source": [
    "# deploy and create a predictor\n",
    "pytorch_predictor = pytorch_estimator.deploy(initial_instance_count=1, instance_type='ml.t2.medium')"
   ]
  },
  {
   "cell_type": "code",
   "execution_count": 49,
   "metadata": {},
   "outputs": [],
   "source": [
    "# submit batches of data for prediction\n",
    "test_df = bucket.read_parquet('Udacity_MAILOUT_052018_TEST_mm.parquet')\n",
    "batch_size = 100\n",
    "predictions = []\n",
    "for k in range(len(test_df) // batch_size + 1):\n",
    "    batch = test_df.values[k*batch_size:(k+1)*batch_size, :]\n",
    "    pred = pytorch_predictor.predict(batch.astype(np.float32))\n",
    "    predictions.extend(pred)\n",
    "predictions = np.squeeze(np.vstack(predictions))"
   ]
  },
  {
   "cell_type": "markdown",
   "metadata": {},
   "source": [
    "#### Save results for Kaggle submission"
   ]
  },
  {
   "cell_type": "code",
   "execution_count": 53,
   "metadata": {},
   "outputs": [
    {
     "data": {
      "text/plain": [
       "'pytorch_10_26_20__01_41.csv'"
      ]
     },
     "execution_count": 53,
     "metadata": {},
     "output_type": "execute_result"
    }
   ],
   "source": [
    "save_for_kaggle(predictions, 'pytorch')"
   ]
  },
  {
   "cell_type": "markdown",
   "metadata": {},
   "source": [
    "#### Cleanup resources"
   ]
  },
  {
   "cell_type": "code",
   "execution_count": 54,
   "metadata": {},
   "outputs": [],
   "source": [
    "pytorch_predictor.delete_endpoint()"
   ]
  },
  {
   "cell_type": "markdown",
   "metadata": {},
   "source": [
    "## XGBoost model\n",
    "\n",
    "Train a XGBoost model with hyperparameter tunning"
   ]
  },
  {
   "cell_type": "markdown",
   "metadata": {},
   "source": [
    "#### Train model"
   ]
  },
  {
   "cell_type": "markdown",
   "metadata": {},
   "source": [
    "Define an estimator using xgboost container image uri"
   ]
  },
  {
   "cell_type": "code",
   "execution_count": 45,
   "metadata": {},
   "outputs": [
    {
     "name": "stderr",
     "output_type": "stream",
     "text": [
      "'get_image_uri' method will be deprecated in favor of 'ImageURIProvider' class in SageMaker Python SDK v2.\n",
      "There is a more up to date SageMaker XGBoost image. To use the newer image, please set 'repo_version'='1.0-1'. For example:\n",
      "\tget_image_uri(region, 'xgboost', '1.0-1').\n",
      "Parameter image_name will be renamed to image_uri in SageMaker Python SDK v2.\n"
     ]
    }
   ],
   "source": [
    "from sagemaker.estimator import Estimator\n",
    "\n",
    "# We need to retrieve the location of the container which is provided by Amazon for using XGBoost.\n",
    "# As a matter of convenience, the training and inference code both use the same container.\n",
    "from sagemaker.amazon.amazon_estimator import get_image_uri\n",
    "\n",
    "container = get_image_uri(sagemaker_session.boto_region_name, 'xgboost')\n",
    "output_path = 's3://{}/{}/output'.format(models_bucket.bucket_name, models_bucket.prefix)\n",
    "\n",
    "# Create a SageMaker estimator using the container location \n",
    "xgb = sagemaker.estimator.Estimator(container,               # The location of the container we wish to use\n",
    "                                    role,                                    # What is our current IAM Role\n",
    "                                    train_instance_count=1,                  # How many compute instances\n",
    "                                    train_instance_type='ml.m4.xlarge',      # What kind of compute instances\n",
    "                                    output_path=output_path,                 # Output path for model artifacts\n",
    "                                    sagemaker_session=sagemaker_session)\n",
    "\n",
    "# Set the XGBoost hyperparameters\n",
    "xgb.set_hyperparameters(silent=0,\n",
    "                        objective='binary:logistic',\n",
    "                        early_stopping_rounds=10,\n",
    "                        num_round=500)"
   ]
  },
  {
   "cell_type": "markdown",
   "metadata": {},
   "source": [
    "Define a hyperparameter tuner to search for best parameters in range"
   ]
  },
  {
   "cell_type": "code",
   "execution_count": 46,
   "metadata": {},
   "outputs": [],
   "source": [
    "from sagemaker.tuner import IntegerParameter, ContinuousParameter, HyperparameterTuner\n",
    "\n",
    "# Create the hyperparameter tuner object\n",
    "xgb_hyperparameter_tuner = HyperparameterTuner(estimator = xgb, # The estimator object to use as the basis for the training jobs.\n",
    "                                               objective_metric_name = 'validation:auc', # The metric used to compare trained models.\n",
    "                                               objective_type = 'Maximize', # Whether we wish to minimize or maximize the metric.\n",
    "                                               max_jobs = 10, # The total number of models to train\n",
    "                                               max_parallel_jobs = 3, # The number of models to train in parallel\n",
    "                                               hyperparameter_ranges = {\n",
    "                                                    'max_depth': IntegerParameter(10, 100),\n",
    "                                                    'eta'      : ContinuousParameter(0.05, 0.5),\n",
    "                                                    'min_child_weight': IntegerParameter(2, 8),\n",
    "                                                    'subsample': ContinuousParameter(0.5, 0.9),\n",
    "                                                    'gamma': ContinuousParameter(0, 20),\n",
    "                                               })"
   ]
  },
  {
   "cell_type": "markdown",
   "metadata": {},
   "source": [
    "Define data location"
   ]
  },
  {
   "cell_type": "code",
   "execution_count": 47,
   "metadata": {},
   "outputs": [
    {
     "name": "stderr",
     "output_type": "stream",
     "text": [
      "'s3_input' class will be renamed to 'TrainingInput' in SageMaker Python SDK v2.\n",
      "'s3_input' class will be renamed to 'TrainingInput' in SageMaker Python SDK v2.\n",
      "'s3_input' class will be renamed to 'TrainingInput' in SageMaker Python SDK v2.\n"
     ]
    }
   ],
   "source": [
    "train_location = 's3://{}/{}/{}'.format(bucket.bucket_name, bucket.prefix, 'training.csv')\n",
    "val_location = 's3://{}/{}/{}'.format(bucket.bucket_name, bucket.prefix, 'validation.csv')\n",
    "test_location = 's3://{}/{}/{}'.format(bucket.bucket_name, bucket.prefix, 'test.csv')\n",
    "\n",
    "s3_input_train = sagemaker.s3_input(s3_data=train_location, content_type='csv')\n",
    "s3_input_validation = sagemaker.s3_input(s3_data=val_location, content_type='csv')\n",
    "s3_input_test = sagemaker.s3_input(s3_data=test_location, content_type='csv')"
   ]
  },
  {
   "cell_type": "markdown",
   "metadata": {},
   "source": [
    "Train estimator"
   ]
  },
  {
   "cell_type": "code",
   "execution_count": 48,
   "metadata": {},
   "outputs": [],
   "source": [
    "xgb_hyperparameter_tuner.fit({'train': s3_input_train, 'validation': s3_input_validation})"
   ]
  },
  {
   "cell_type": "code",
   "execution_count": 49,
   "metadata": {},
   "outputs": [
    {
     "name": "stdout",
     "output_type": "stream",
     "text": [
      "..........................................................................................................................................................................!\n"
     ]
    }
   ],
   "source": [
    "xgb_hyperparameter_tuner.wait()"
   ]
  },
  {
   "cell_type": "markdown",
   "metadata": {},
   "source": [
    "Attach to best model found during tuning"
   ]
  },
  {
   "cell_type": "code",
   "execution_count": 50,
   "metadata": {},
   "outputs": [
    {
     "name": "stderr",
     "output_type": "stream",
     "text": [
      "Parameter image_name will be renamed to image_uri in SageMaker Python SDK v2.\n"
     ]
    },
    {
     "name": "stdout",
     "output_type": "stream",
     "text": [
      "2020-10-27 00:55:14 Starting - Preparing the instances for training\n",
      "2020-10-27 00:55:14 Downloading - Downloading input data\n",
      "2020-10-27 00:55:14 Training - Training image download completed. Training in progress.\n",
      "2020-10-27 00:55:14 Uploading - Uploading generated training model\n",
      "2020-10-27 00:55:14 Completed - Training job completed"
     ]
    },
    {
     "name": "stderr",
     "output_type": "stream",
     "text": [
      "Parameter image will be renamed to image_uri in SageMaker Python SDK v2.\n"
     ]
    },
    {
     "name": "stdout",
     "output_type": "stream",
     "text": [
      "\u001b[34mArguments: train\u001b[0m\n",
      "\u001b[34m[2020-10-27:00:54:52:INFO] Running standalone xgboost training.\u001b[0m\n",
      "\u001b[34m[2020-10-27:00:54:52:INFO] Setting up HPO optimized metric to be : auc\u001b[0m\n",
      "\u001b[34m[2020-10-27:00:54:52:INFO] File size need to be processed in the node: 129.97mb. Available memory size in the node: 8472.13mb\u001b[0m\n",
      "\u001b[34m[2020-10-27:00:54:52:INFO] Determined delimiter of CSV input is ','\u001b[0m\n",
      "\u001b[34m[00:54:52] S3DistributionType set as FullyReplicated\u001b[0m\n",
      "\u001b[34m[00:54:52] 28784x418 matrix with 12031712 entries loaded from /opt/ml/input/data/train?format=csv&label_column=0&delimiter=,\u001b[0m\n",
      "\u001b[34m[2020-10-27:00:54:52:INFO] Determined delimiter of CSV input is ','\u001b[0m\n",
      "\u001b[34m[00:54:52] S3DistributionType set as FullyReplicated\u001b[0m\n",
      "\u001b[34m[00:54:52] 14178x418 matrix with 5926404 entries loaded from /opt/ml/input/data/validation?format=csv&label_column=0&delimiter=,\u001b[0m\n",
      "\u001b[34m[00:54:53] src/tree/updater_prune.cc:74: tree pruning end, 1 roots, 0 extra nodes, 2 pruned nodes, max_depth=0\u001b[0m\n",
      "\u001b[34m[0]#011train-auc:0.5#011validation-auc:0.5\u001b[0m\n",
      "\u001b[34mMultiple eval metrics have been passed: 'validation-auc' will be used for early stopping.\n",
      "\u001b[0m\n",
      "\u001b[34mWill train until validation-auc hasn't improved in 10 rounds.\u001b[0m\n",
      "\u001b[34m[00:54:53] src/tree/updater_prune.cc:74: tree pruning end, 1 roots, 0 extra nodes, 14 pruned nodes, max_depth=0\u001b[0m\n",
      "\u001b[34m[1]#011train-auc:0.5#011validation-auc:0.5\u001b[0m\n",
      "\u001b[34m[00:54:53] src/tree/updater_prune.cc:74: tree pruning end, 1 roots, 0 extra nodes, 94 pruned nodes, max_depth=0\u001b[0m\n",
      "\u001b[34m[2]#011train-auc:0.5#011validation-auc:0.5\u001b[0m\n",
      "\u001b[34m[00:54:54] src/tree/updater_prune.cc:74: tree pruning end, 1 roots, 2 extra nodes, 98 pruned nodes, max_depth=1\u001b[0m\n",
      "\u001b[34m[3]#011train-auc:0.66545#011validation-auc:0.639842\u001b[0m\n",
      "\u001b[34m[00:54:54] src/tree/updater_prune.cc:74: tree pruning end, 1 roots, 2 extra nodes, 106 pruned nodes, max_depth=1\u001b[0m\n",
      "\u001b[34m[4]#011train-auc:0.66545#011validation-auc:0.639842\u001b[0m\n",
      "\u001b[34m[00:54:55] src/tree/updater_prune.cc:74: tree pruning end, 1 roots, 2 extra nodes, 122 pruned nodes, max_depth=1\u001b[0m\n",
      "\u001b[34m[5]#011train-auc:0.66545#011validation-auc:0.639842\u001b[0m\n",
      "\u001b[34m[00:54:56] src/tree/updater_prune.cc:74: tree pruning end, 1 roots, 2 extra nodes, 128 pruned nodes, max_depth=1\u001b[0m\n",
      "\u001b[34m[6]#011train-auc:0.66545#011validation-auc:0.639842\u001b[0m\n",
      "\u001b[34m[00:54:56] src/tree/updater_prune.cc:74: tree pruning end, 1 roots, 2 extra nodes, 122 pruned nodes, max_depth=1\u001b[0m\n",
      "\u001b[34m[7]#011train-auc:0.66545#011validation-auc:0.639842\u001b[0m\n",
      "\u001b[34m[00:54:57] src/tree/updater_prune.cc:74: tree pruning end, 1 roots, 0 extra nodes, 110 pruned nodes, max_depth=0\u001b[0m\n",
      "\u001b[34m[8]#011train-auc:0.66545#011validation-auc:0.639842\u001b[0m\n",
      "\u001b[34m[00:54:58] src/tree/updater_prune.cc:74: tree pruning end, 1 roots, 16 extra nodes, 82 pruned nodes, max_depth=8\u001b[0m\n",
      "\u001b[34m[9]#011train-auc:0.692708#011validation-auc:0.649558\u001b[0m\n",
      "\u001b[34m[00:54:58] src/tree/updater_prune.cc:74: tree pruning end, 1 roots, 2 extra nodes, 90 pruned nodes, max_depth=1\u001b[0m\n",
      "\u001b[34m[10]#011train-auc:0.692708#011validation-auc:0.649558\u001b[0m\n",
      "\u001b[34m[00:54:59] src/tree/updater_prune.cc:74: tree pruning end, 1 roots, 12 extra nodes, 76 pruned nodes, max_depth=6\u001b[0m\n",
      "\u001b[34m[11]#011train-auc:0.732014#011validation-auc:0.701726\u001b[0m\n",
      "\u001b[34m[00:54:59] src/tree/updater_prune.cc:74: tree pruning end, 1 roots, 12 extra nodes, 78 pruned nodes, max_depth=6\u001b[0m\n",
      "\u001b[34m[12]#011train-auc:0.751088#011validation-auc:0.688711\u001b[0m\n",
      "\u001b[34m[00:55:00] src/tree/updater_prune.cc:74: tree pruning end, 1 roots, 12 extra nodes, 78 pruned nodes, max_depth=4\u001b[0m\n",
      "\u001b[34m[13]#011train-auc:0.764188#011validation-auc:0.685012\u001b[0m\n",
      "\u001b[34m[00:55:00] src/tree/updater_prune.cc:74: tree pruning end, 1 roots, 14 extra nodes, 72 pruned nodes, max_depth=6\u001b[0m\n",
      "\u001b[34m[14]#011train-auc:0.771959#011validation-auc:0.683509\u001b[0m\n",
      "\u001b[34m[00:55:00] src/tree/updater_prune.cc:74: tree pruning end, 1 roots, 22 extra nodes, 70 pruned nodes, max_depth=9\u001b[0m\n",
      "\u001b[34m[15]#011train-auc:0.794928#011validation-auc:0.673994\u001b[0m\n",
      "\u001b[34m[00:55:01] src/tree/updater_prune.cc:74: tree pruning end, 1 roots, 16 extra nodes, 70 pruned nodes, max_depth=6\u001b[0m\n",
      "\u001b[34m[16]#011train-auc:0.80532#011validation-auc:0.662844\u001b[0m\n",
      "\u001b[34m[00:55:02] src/tree/updater_prune.cc:74: tree pruning end, 1 roots, 0 extra nodes, 90 pruned nodes, max_depth=0\u001b[0m\n",
      "\u001b[34m[17]#011train-auc:0.80532#011validation-auc:0.662844\u001b[0m\n",
      "\u001b[34m[00:55:02] src/tree/updater_prune.cc:74: tree pruning end, 1 roots, 16 extra nodes, 72 pruned nodes, max_depth=7\u001b[0m\n",
      "\u001b[34m[18]#011train-auc:0.816557#011validation-auc:0.647592\u001b[0m\n",
      "\u001b[34m[00:55:03] src/tree/updater_prune.cc:74: tree pruning end, 1 roots, 18 extra nodes, 64 pruned nodes, max_depth=9\u001b[0m\n",
      "\u001b[34m[19]#011train-auc:0.82664#011validation-auc:0.640346\u001b[0m\n",
      "\u001b[34m[00:55:03] src/tree/updater_prune.cc:74: tree pruning end, 1 roots, 10 extra nodes, 72 pruned nodes, max_depth=5\u001b[0m\n",
      "\u001b[34m[20]#011train-auc:0.831592#011validation-auc:0.637853\u001b[0m\n",
      "\u001b[34m[00:55:03] src/tree/updater_prune.cc:74: tree pruning end, 1 roots, 8 extra nodes, 74 pruned nodes, max_depth=4\u001b[0m\n",
      "\u001b[34m[21]#011train-auc:0.83974#011validation-auc:0.643086\u001b[0m\n",
      "\u001b[34mStopping. Best iteration:\u001b[0m\n",
      "\u001b[34m[11]#011train-auc:0.732014#011validation-auc:0.701726\n",
      "\u001b[0m\n",
      "Training seconds: 76\n",
      "Billable seconds: 76\n"
     ]
    }
   ],
   "source": [
    "# Create a new estimator object attached to the best training job found during hyperparameter tuning\n",
    "xgb_attached = sagemaker.estimator.Estimator.attach(xgb_hyperparameter_tuner.best_training_job())\n",
    "\n",
    "# Create a transformer object from the attached estimator. \n",
    "xgb_transformer = xgb_attached.transformer(instance_count = 1, instance_type = 'ml.m4.xlarge')"
   ]
  },
  {
   "cell_type": "markdown",
   "metadata": {},
   "source": [
    "#### Generate test predictions"
   ]
  },
  {
   "cell_type": "code",
   "execution_count": 51,
   "metadata": {},
   "outputs": [
    {
     "name": "stdout",
     "output_type": "stream",
     "text": [
      ".............................\u001b[32m2020-10-27T01:00:39.737:[sagemaker logs]: MaxConcurrentTransforms=4, MaxPayloadInMB=6, BatchStrategy=MULTI_RECORD\u001b[0m\n",
      "\n",
      "\u001b[34mArguments: serve\u001b[0m\n",
      "\u001b[34m[2020-10-27 01:00:39 +0000] [1] [INFO] Starting gunicorn 19.7.1\u001b[0m\n",
      "\u001b[34m[2020-10-27 01:00:39 +0000] [1] [INFO] Listening at: http://0.0.0.0:8080 (1)\u001b[0m\n",
      "\u001b[34m[2020-10-27 01:00:39 +0000] [1] [INFO] Using worker: gevent\u001b[0m\n",
      "\u001b[34m[2020-10-27 01:00:39 +0000] [37] [INFO] Booting worker with pid: 37\u001b[0m\n",
      "\u001b[34m[2020-10-27 01:00:39 +0000] [38] [INFO] Booting worker with pid: 38\u001b[0m\n",
      "\u001b[34m[2020-10-27 01:00:39 +0000] [39] [INFO] Booting worker with pid: 39\u001b[0m\n",
      "\u001b[34m[2020-10-27:01:00:39:INFO] Model loaded successfully for worker : 37\u001b[0m\n",
      "\u001b[34m[2020-10-27:01:00:39:INFO] Model loaded successfully for worker : 38\u001b[0m\n",
      "\u001b[34m[2020-10-27:01:00:39:INFO] Model loaded successfully for worker : 39\u001b[0m\n",
      "\u001b[34m[2020-10-27 01:00:39 +0000] [40] [INFO] Booting worker with pid: 40\u001b[0m\n",
      "\u001b[35mArguments: serve\u001b[0m\n",
      "\u001b[35m[2020-10-27 01:00:39 +0000] [1] [INFO] Starting gunicorn 19.7.1\u001b[0m\n",
      "\u001b[35m[2020-10-27 01:00:39 +0000] [1] [INFO] Listening at: http://0.0.0.0:8080 (1)\u001b[0m\n",
      "\u001b[35m[2020-10-27 01:00:39 +0000] [1] [INFO] Using worker: gevent\u001b[0m\n",
      "\u001b[35m[2020-10-27 01:00:39 +0000] [37] [INFO] Booting worker with pid: 37\u001b[0m\n",
      "\u001b[35m[2020-10-27 01:00:39 +0000] [38] [INFO] Booting worker with pid: 38\u001b[0m\n",
      "\u001b[35m[2020-10-27 01:00:39 +0000] [39] [INFO] Booting worker with pid: 39\u001b[0m\n",
      "\u001b[35m[2020-10-27:01:00:39:INFO] Model loaded successfully for worker : 37\u001b[0m\n",
      "\u001b[35m[2020-10-27:01:00:39:INFO] Model loaded successfully for worker : 38\u001b[0m\n",
      "\u001b[35m[2020-10-27:01:00:39:INFO] Model loaded successfully for worker : 39\u001b[0m\n",
      "\u001b[35m[2020-10-27 01:00:39 +0000] [40] [INFO] Booting worker with pid: 40\u001b[0m\n",
      "\u001b[34m[2020-10-27:01:00:39:INFO] Model loaded successfully for worker : 40\u001b[0m\n",
      "\u001b[34m[2020-10-27:01:00:39:INFO] Sniff delimiter as ','\u001b[0m\n",
      "\u001b[34m[2020-10-27:01:00:40:INFO] Determined delimiter of CSV input is ','\u001b[0m\n",
      "\u001b[34m[2020-10-27:01:00:40:INFO] Sniff delimiter as ','\u001b[0m\n",
      "\u001b[34m[2020-10-27:01:00:40:INFO] Determined delimiter of CSV input is ','\u001b[0m\n",
      "\u001b[34m[2020-10-27:01:00:40:INFO] Sniff delimiter as ','\u001b[0m\n",
      "\u001b[34m[2020-10-27:01:00:40:INFO] Determined delimiter of CSV input is ','\u001b[0m\n",
      "\u001b[34m[2020-10-27:01:00:40:INFO] Sniff delimiter as ','\u001b[0m\n",
      "\u001b[34m[2020-10-27:01:00:40:INFO] Determined delimiter of CSV input is ','\u001b[0m\n",
      "\u001b[34m[2020-10-27:01:00:41:INFO] Sniff delimiter as ','\u001b[0m\n",
      "\u001b[34m[2020-10-27:01:00:41:INFO] Determined delimiter of CSV input is ','\u001b[0m\n",
      "\u001b[34m[2020-10-27:01:00:41:INFO] Sniff delimiter as ','\u001b[0m\n",
      "\u001b[34m[2020-10-27:01:00:41:INFO] Determined delimiter of CSV input is ','\u001b[0m\n",
      "\u001b[34m[2020-10-27:01:00:41:INFO] Sniff delimiter as ','\u001b[0m\n",
      "\u001b[34m[2020-10-27:01:00:41:INFO] Determined delimiter of CSV input is ','\u001b[0m\n",
      "\u001b[34m[2020-10-27:01:00:41:INFO] Sniff delimiter as ','\u001b[0m\n",
      "\u001b[34m[2020-10-27:01:00:41:INFO] Determined delimiter of CSV input is ','\u001b[0m\n",
      "\u001b[34m[2020-10-27:01:00:42:INFO] Sniff delimiter as ','\u001b[0m\n",
      "\u001b[34m[2020-10-27:01:00:42:INFO] Determined delimiter of CSV input is ','\u001b[0m\n",
      "\u001b[34m[2020-10-27:01:00:42:INFO] Sniff delimiter as ','\u001b[0m\n",
      "\u001b[34m[2020-10-27:01:00:42:INFO] Determined delimiter of CSV input is ','\u001b[0m\n",
      "\u001b[34m[2020-10-27:01:00:42:INFO] Sniff delimiter as ','\u001b[0m\n",
      "\u001b[35m[2020-10-27:01:00:39:INFO] Model loaded successfully for worker : 40\u001b[0m\n",
      "\u001b[35m[2020-10-27:01:00:39:INFO] Sniff delimiter as ','\u001b[0m\n",
      "\u001b[35m[2020-10-27:01:00:40:INFO] Determined delimiter of CSV input is ','\u001b[0m\n",
      "\u001b[35m[2020-10-27:01:00:40:INFO] Sniff delimiter as ','\u001b[0m\n",
      "\u001b[35m[2020-10-27:01:00:40:INFO] Determined delimiter of CSV input is ','\u001b[0m\n",
      "\u001b[35m[2020-10-27:01:00:40:INFO] Sniff delimiter as ','\u001b[0m\n",
      "\u001b[35m[2020-10-27:01:00:40:INFO] Determined delimiter of CSV input is ','\u001b[0m\n",
      "\u001b[35m[2020-10-27:01:00:40:INFO] Sniff delimiter as ','\u001b[0m\n",
      "\u001b[35m[2020-10-27:01:00:40:INFO] Determined delimiter of CSV input is ','\u001b[0m\n",
      "\u001b[35m[2020-10-27:01:00:41:INFO] Sniff delimiter as ','\u001b[0m\n",
      "\u001b[35m[2020-10-27:01:00:41:INFO] Determined delimiter of CSV input is ','\u001b[0m\n",
      "\u001b[35m[2020-10-27:01:00:41:INFO] Sniff delimiter as ','\u001b[0m\n",
      "\u001b[35m[2020-10-27:01:00:41:INFO] Determined delimiter of CSV input is ','\u001b[0m\n",
      "\u001b[35m[2020-10-27:01:00:41:INFO] Sniff delimiter as ','\u001b[0m\n",
      "\u001b[35m[2020-10-27:01:00:41:INFO] Determined delimiter of CSV input is ','\u001b[0m\n",
      "\u001b[35m[2020-10-27:01:00:41:INFO] Sniff delimiter as ','\u001b[0m\n",
      "\u001b[35m[2020-10-27:01:00:41:INFO] Determined delimiter of CSV input is ','\u001b[0m\n",
      "\u001b[35m[2020-10-27:01:00:42:INFO] Sniff delimiter as ','\u001b[0m\n",
      "\u001b[35m[2020-10-27:01:00:42:INFO] Determined delimiter of CSV input is ','\u001b[0m\n",
      "\u001b[35m[2020-10-27:01:00:42:INFO] Sniff delimiter as ','\u001b[0m\n",
      "\u001b[35m[2020-10-27:01:00:42:INFO] Determined delimiter of CSV input is ','\u001b[0m\n",
      "\u001b[35m[2020-10-27:01:00:42:INFO] Sniff delimiter as ','\u001b[0m\n",
      "\u001b[34m[2020-10-27:01:00:42:INFO] Determined delimiter of CSV input is ','\u001b[0m\n",
      "\u001b[34m[2020-10-27:01:00:42:INFO] Sniff delimiter as ','\u001b[0m\n",
      "\u001b[34m[2020-10-27:01:00:42:INFO] Determined delimiter of CSV input is ','\u001b[0m\n",
      "\u001b[34m[2020-10-27:01:00:43:INFO] Sniff delimiter as ','\u001b[0m\n",
      "\u001b[34m[2020-10-27:01:00:43:INFO] Determined delimiter of CSV input is ','\u001b[0m\n",
      "\u001b[34m[2020-10-27:01:00:43:INFO] Sniff delimiter as ','\u001b[0m\n",
      "\u001b[34m[2020-10-27:01:00:43:INFO] Determined delimiter of CSV input is ','\u001b[0m\n",
      "\u001b[35m[2020-10-27:01:00:42:INFO] Determined delimiter of CSV input is ','\u001b[0m\n",
      "\u001b[35m[2020-10-27:01:00:42:INFO] Sniff delimiter as ','\u001b[0m\n",
      "\u001b[35m[2020-10-27:01:00:42:INFO] Determined delimiter of CSV input is ','\u001b[0m\n",
      "\u001b[35m[2020-10-27:01:00:43:INFO] Sniff delimiter as ','\u001b[0m\n",
      "\u001b[35m[2020-10-27:01:00:43:INFO] Determined delimiter of CSV input is ','\u001b[0m\n",
      "\u001b[35m[2020-10-27:01:00:43:INFO] Sniff delimiter as ','\u001b[0m\n",
      "\u001b[35m[2020-10-27:01:00:43:INFO] Determined delimiter of CSV input is ','\u001b[0m\n",
      "\u001b[34m[2020-10-27:01:00:43:INFO] Sniff delimiter as ','\u001b[0m\n",
      "\u001b[34m[2020-10-27:01:00:43:INFO] Determined delimiter of CSV input is ','\u001b[0m\n",
      "\u001b[34m[2020-10-27:01:00:44:INFO] Sniff delimiter as ','\u001b[0m\n",
      "\u001b[34m[2020-10-27:01:00:44:INFO] Determined delimiter of CSV input is ','\u001b[0m\n",
      "\u001b[34m[2020-10-27:01:00:44:INFO] Sniff delimiter as ','\u001b[0m\n",
      "\u001b[35m[2020-10-27:01:00:43:INFO] Sniff delimiter as ','\u001b[0m\n",
      "\u001b[35m[2020-10-27:01:00:43:INFO] Determined delimiter of CSV input is ','\u001b[0m\n",
      "\u001b[35m[2020-10-27:01:00:44:INFO] Sniff delimiter as ','\u001b[0m\n",
      "\u001b[35m[2020-10-27:01:00:44:INFO] Determined delimiter of CSV input is ','\u001b[0m\n",
      "\u001b[35m[2020-10-27:01:00:44:INFO] Sniff delimiter as ','\u001b[0m\n",
      "\u001b[34m[2020-10-27:01:00:44:INFO] Determined delimiter of CSV input is ','\u001b[0m\n",
      "\u001b[34m[2020-10-27:01:00:44:INFO] Sniff delimiter as ','\u001b[0m\n",
      "\u001b[34m[2020-10-27:01:00:44:INFO] Determined delimiter of CSV input is ','\u001b[0m\n",
      "\u001b[35m[2020-10-27:01:00:44:INFO] Determined delimiter of CSV input is ','\u001b[0m\n",
      "\u001b[35m[2020-10-27:01:00:44:INFO] Sniff delimiter as ','\u001b[0m\n",
      "\u001b[35m[2020-10-27:01:00:44:INFO] Determined delimiter of CSV input is ','\u001b[0m\n",
      "\u001b[34m[2020-10-27:01:00:45:INFO] Sniff delimiter as ','\u001b[0m\n",
      "\u001b[34m[2020-10-27:01:00:45:INFO] Determined delimiter of CSV input is ','\u001b[0m\n",
      "\u001b[34m[2020-10-27:01:00:45:INFO] Sniff delimiter as ','\u001b[0m\n",
      "\u001b[34m[2020-10-27:01:00:45:INFO] Determined delimiter of CSV input is ','\u001b[0m\n",
      "\u001b[34m[2020-10-27:01:00:45:INFO] Sniff delimiter as ','\u001b[0m\n",
      "\u001b[34m[2020-10-27:01:00:45:INFO] Determined delimiter of CSV input is ','\u001b[0m\n",
      "\u001b[34m[2020-10-27:01:00:45:INFO] Sniff delimiter as ','\u001b[0m\n",
      "\u001b[34m[2020-10-27:01:00:45:INFO] Determined delimiter of CSV input is ','\u001b[0m\n",
      "\u001b[35m[2020-10-27:01:00:45:INFO] Sniff delimiter as ','\u001b[0m\n",
      "\u001b[35m[2020-10-27:01:00:45:INFO] Determined delimiter of CSV input is ','\u001b[0m\n",
      "\u001b[35m[2020-10-27:01:00:45:INFO] Sniff delimiter as ','\u001b[0m\n",
      "\u001b[35m[2020-10-27:01:00:45:INFO] Determined delimiter of CSV input is ','\u001b[0m\n",
      "\u001b[35m[2020-10-27:01:00:45:INFO] Sniff delimiter as ','\u001b[0m\n",
      "\u001b[35m[2020-10-27:01:00:45:INFO] Determined delimiter of CSV input is ','\u001b[0m\n",
      "\u001b[35m[2020-10-27:01:00:45:INFO] Sniff delimiter as ','\u001b[0m\n",
      "\u001b[35m[2020-10-27:01:00:45:INFO] Determined delimiter of CSV input is ','\u001b[0m\n"
     ]
    }
   ],
   "source": [
    "data_dir = 'xgb'\n",
    "xgb_transformer.transform(test_location, content_type='text/csv', split_type='Line')\n",
    "xgb_transformer.wait()"
   ]
  },
  {
   "cell_type": "code",
   "execution_count": 52,
   "metadata": {},
   "outputs": [
    {
     "name": "stdout",
     "output_type": "stream",
     "text": [
      "download: s3://sagemaker-us-east-2-089812661404/xgboost-201027-0041-010-9413c60a-2020-10-27-00-56-00-840/test.csv.out to xgb/test.csv.out\n"
     ]
    }
   ],
   "source": [
    "!aws s3 cp --recursive $xgb_transformer.output_path $data_dir\n",
    "predictions = pd.read_csv(os.path.join(data_dir, 'test.csv.out'), header=None)"
   ]
  },
  {
   "cell_type": "markdown",
   "metadata": {},
   "source": [
    "#### Save results for Kaggle submission"
   ]
  },
  {
   "cell_type": "code",
   "execution_count": 53,
   "metadata": {},
   "outputs": [
    {
     "data": {
      "text/plain": [
       "'xgb_10_27_20__01_03.csv'"
      ]
     },
     "execution_count": 53,
     "metadata": {},
     "output_type": "execute_result"
    }
   ],
   "source": [
    "save_for_kaggle(predictions, 'xgb')"
   ]
  },
  {
   "cell_type": "markdown",
   "metadata": {},
   "source": [
    "## Part 3: Kaggle Competition\n",
    "\n",
    "Now that we've created a model to predict which individuals are most likely to respond to a mailout campaign, it's time to test that model in competition through Kaggle. If you click on the link [here](http://www.kaggle.com/t/21e6d45d4c574c7fa2d868f0e8c83140), you'll be taken to the competition page where, if you have a Kaggle account, you can enter. \n",
    "\n",
    "The to the competition should be a CSV file with two columns. The first column should be a copy of \"LNR\", which acts as an ID number for each individual in the \"TEST\" partition. The second column, \"RESPONSE\", should be some measure of how likely each individual became a customer – this might not be a straightforward probability. As you should have found in Part 2, there is a large output class imbalance, where most individuals did not respond to the mailout. Thus, predicting individual classes and using accuracy does not seem to be an appropriate performance evaluation method. Instead, the competition will be using AUC to evaluate performance. The exact values of the \"RESPONSE\" column do not matter as much: only that the higher values try to capture as many of the actual customers as possible, early in the ROC curve sweep."
   ]
  },
  {
   "cell_type": "markdown",
   "metadata": {},
   "source": [
    "#### Result"
   ]
  },
  {
   "cell_type": "markdown",
   "metadata": {},
   "source": [
    "Test predictions from XGBoost ('xgb_10_27_20__01_03.csv') were submitted to Kaggle, resulting in a test score of 0.71592, which means that, on average, the model is right 71.5% of times it makes a prediction. "
   ]
  }
 ],
 "metadata": {
  "kernelspec": {
   "display_name": "Python 3",
   "language": "python",
   "name": "python3"
  },
  "language_info": {
   "codemirror_mode": {
    "name": "ipython",
    "version": 3
   },
   "file_extension": ".py",
   "mimetype": "text/x-python",
   "name": "python",
   "nbconvert_exporter": "python",
   "pygments_lexer": "ipython3",
   "version": "3.6.5"
  }
 },
 "nbformat": 4,
 "nbformat_minor": 4
}
